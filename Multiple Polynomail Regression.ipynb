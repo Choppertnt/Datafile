{
 "cells": [
  {
   "cell_type": "code",
   "execution_count": 1,
   "id": "4d61bb39",
   "metadata": {},
   "outputs": [],
   "source": [
    "import sys\n",
    "import pandas as pd\n",
    "import numpy as np\n",
    "import matplotlib.pyplot as plt\n",
    "import seaborn as sns\n",
    "%matplotlib inline\n",
    "%config inlineBackend.figure_format = 'retina'"
   ]
  },
  {
   "cell_type": "code",
   "execution_count": 5,
   "id": "a2a7604c",
   "metadata": {},
   "outputs": [],
   "source": [
    "url = 'https://github.com/prasertcbs/basic-dataset/raw/master/ISLR/Auto.csv'"
   ]
  },
  {
   "cell_type": "markdown",
   "id": "6e0870a8",
   "metadata": {},
   "source": [
    "mpg = น้ำมัน"
   ]
  },
  {
   "cell_type": "code",
   "execution_count": 6,
   "id": "39ee7777",
   "metadata": {},
   "outputs": [
    {
     "data": {
      "text/html": [
       "<div>\n",
       "<style scoped>\n",
       "    .dataframe tbody tr th:only-of-type {\n",
       "        vertical-align: middle;\n",
       "    }\n",
       "\n",
       "    .dataframe tbody tr th {\n",
       "        vertical-align: top;\n",
       "    }\n",
       "\n",
       "    .dataframe thead th {\n",
       "        text-align: right;\n",
       "    }\n",
       "</style>\n",
       "<table border=\"1\" class=\"dataframe\">\n",
       "  <thead>\n",
       "    <tr style=\"text-align: right;\">\n",
       "      <th></th>\n",
       "      <th>mpg</th>\n",
       "      <th>cylinders</th>\n",
       "      <th>displacement</th>\n",
       "      <th>horsepower</th>\n",
       "      <th>weight</th>\n",
       "      <th>acceleration</th>\n",
       "      <th>year</th>\n",
       "      <th>origin</th>\n",
       "      <th>name</th>\n",
       "    </tr>\n",
       "  </thead>\n",
       "  <tbody>\n",
       "    <tr>\n",
       "      <th>279</th>\n",
       "      <td>29.5</td>\n",
       "      <td>4</td>\n",
       "      <td>98.0</td>\n",
       "      <td>68.0</td>\n",
       "      <td>2135</td>\n",
       "      <td>16.6</td>\n",
       "      <td>78</td>\n",
       "      <td>3</td>\n",
       "      <td>honda accord lx</td>\n",
       "    </tr>\n",
       "    <tr>\n",
       "      <th>206</th>\n",
       "      <td>26.5</td>\n",
       "      <td>4</td>\n",
       "      <td>140.0</td>\n",
       "      <td>72.0</td>\n",
       "      <td>2565</td>\n",
       "      <td>13.6</td>\n",
       "      <td>76</td>\n",
       "      <td>1</td>\n",
       "      <td>ford pinto</td>\n",
       "    </tr>\n",
       "    <tr>\n",
       "      <th>177</th>\n",
       "      <td>23.0</td>\n",
       "      <td>4</td>\n",
       "      <td>115.0</td>\n",
       "      <td>95.0</td>\n",
       "      <td>2694</td>\n",
       "      <td>15.0</td>\n",
       "      <td>75</td>\n",
       "      <td>2</td>\n",
       "      <td>audi 100ls</td>\n",
       "    </tr>\n",
       "    <tr>\n",
       "      <th>259</th>\n",
       "      <td>20.8</td>\n",
       "      <td>6</td>\n",
       "      <td>200.0</td>\n",
       "      <td>85.0</td>\n",
       "      <td>3070</td>\n",
       "      <td>16.7</td>\n",
       "      <td>78</td>\n",
       "      <td>1</td>\n",
       "      <td>mercury zephyr</td>\n",
       "    </tr>\n",
       "    <tr>\n",
       "      <th>12</th>\n",
       "      <td>15.0</td>\n",
       "      <td>8</td>\n",
       "      <td>400.0</td>\n",
       "      <td>150.0</td>\n",
       "      <td>3761</td>\n",
       "      <td>9.5</td>\n",
       "      <td>70</td>\n",
       "      <td>1</td>\n",
       "      <td>chevrolet monte carlo</td>\n",
       "    </tr>\n",
       "    <tr>\n",
       "      <th>283</th>\n",
       "      <td>20.2</td>\n",
       "      <td>6</td>\n",
       "      <td>232.0</td>\n",
       "      <td>90.0</td>\n",
       "      <td>3265</td>\n",
       "      <td>18.2</td>\n",
       "      <td>79</td>\n",
       "      <td>1</td>\n",
       "      <td>amc concord dl 6</td>\n",
       "    </tr>\n",
       "    <tr>\n",
       "      <th>252</th>\n",
       "      <td>19.2</td>\n",
       "      <td>6</td>\n",
       "      <td>231.0</td>\n",
       "      <td>105.0</td>\n",
       "      <td>3535</td>\n",
       "      <td>19.2</td>\n",
       "      <td>78</td>\n",
       "      <td>1</td>\n",
       "      <td>pontiac phoenix lj</td>\n",
       "    </tr>\n",
       "    <tr>\n",
       "      <th>153</th>\n",
       "      <td>18.0</td>\n",
       "      <td>6</td>\n",
       "      <td>250.0</td>\n",
       "      <td>105.0</td>\n",
       "      <td>3459</td>\n",
       "      <td>16.0</td>\n",
       "      <td>75</td>\n",
       "      <td>1</td>\n",
       "      <td>chevrolet nova</td>\n",
       "    </tr>\n",
       "    <tr>\n",
       "      <th>382</th>\n",
       "      <td>38.0</td>\n",
       "      <td>4</td>\n",
       "      <td>91.0</td>\n",
       "      <td>67.0</td>\n",
       "      <td>1965</td>\n",
       "      <td>15.0</td>\n",
       "      <td>82</td>\n",
       "      <td>3</td>\n",
       "      <td>honda civic</td>\n",
       "    </tr>\n",
       "    <tr>\n",
       "      <th>354</th>\n",
       "      <td>34.5</td>\n",
       "      <td>4</td>\n",
       "      <td>100.0</td>\n",
       "      <td>NaN</td>\n",
       "      <td>2320</td>\n",
       "      <td>15.8</td>\n",
       "      <td>81</td>\n",
       "      <td>2</td>\n",
       "      <td>renault 18i</td>\n",
       "    </tr>\n",
       "  </tbody>\n",
       "</table>\n",
       "</div>"
      ],
      "text/plain": [
       "      mpg  cylinders  displacement  horsepower  weight  acceleration  year  \\\n",
       "279  29.5          4          98.0        68.0    2135          16.6    78   \n",
       "206  26.5          4         140.0        72.0    2565          13.6    76   \n",
       "177  23.0          4         115.0        95.0    2694          15.0    75   \n",
       "259  20.8          6         200.0        85.0    3070          16.7    78   \n",
       "12   15.0          8         400.0       150.0    3761           9.5    70   \n",
       "283  20.2          6         232.0        90.0    3265          18.2    79   \n",
       "252  19.2          6         231.0       105.0    3535          19.2    78   \n",
       "153  18.0          6         250.0       105.0    3459          16.0    75   \n",
       "382  38.0          4          91.0        67.0    1965          15.0    82   \n",
       "354  34.5          4         100.0         NaN    2320          15.8    81   \n",
       "\n",
       "     origin                   name  \n",
       "279       3        honda accord lx  \n",
       "206       1             ford pinto  \n",
       "177       2             audi 100ls  \n",
       "259       1         mercury zephyr  \n",
       "12        1  chevrolet monte carlo  \n",
       "283       1       amc concord dl 6  \n",
       "252       1     pontiac phoenix lj  \n",
       "153       1         chevrolet nova  \n",
       "382       3            honda civic  \n",
       "354       2            renault 18i  "
      ]
     },
     "execution_count": 6,
     "metadata": {},
     "output_type": "execute_result"
    }
   ],
   "source": [
    "df = pd.read_csv(url,na_values='?')\n",
    "df.sample(10)"
   ]
  },
  {
   "cell_type": "code",
   "execution_count": 7,
   "id": "396180aa",
   "metadata": {},
   "outputs": [
    {
     "name": "stdout",
     "output_type": "stream",
     "text": [
      "<class 'pandas.core.frame.DataFrame'>\n",
      "RangeIndex: 397 entries, 0 to 396\n",
      "Data columns (total 9 columns):\n",
      " #   Column        Non-Null Count  Dtype  \n",
      "---  ------        --------------  -----  \n",
      " 0   mpg           397 non-null    float64\n",
      " 1   cylinders     397 non-null    int64  \n",
      " 2   displacement  397 non-null    float64\n",
      " 3   horsepower    392 non-null    float64\n",
      " 4   weight        397 non-null    int64  \n",
      " 5   acceleration  397 non-null    float64\n",
      " 6   year          397 non-null    int64  \n",
      " 7   origin        397 non-null    int64  \n",
      " 8   name          397 non-null    object \n",
      "dtypes: float64(4), int64(4), object(1)\n",
      "memory usage: 28.0+ KB\n"
     ]
    }
   ],
   "source": [
    "df.info()"
   ]
  },
  {
   "cell_type": "code",
   "execution_count": 8,
   "id": "a59f8898",
   "metadata": {},
   "outputs": [],
   "source": [
    "df.dropna(inplace=True)"
   ]
  },
  {
   "cell_type": "code",
   "execution_count": 10,
   "id": "66497d09",
   "metadata": {},
   "outputs": [
    {
     "data": {
      "text/plain": [
       "<seaborn.axisgrid.PairGrid at 0x2d5b41ba2b0>"
      ]
     },
     "execution_count": 10,
     "metadata": {},
     "output_type": "execute_result"
    },
    {
     "data": {
      "image/png": "[encoded data removed]",
      "text/plain": [
       "<Figure size 750x750 with 12 Axes>"
      ]
     },
     "metadata": {},
     "output_type": "display_data"
    }
   ],
   "source": [
    "sns.pairplot(df[['mpg','horsepower','weight']])"
   ]
  },
  {
   "cell_type": "code",
   "execution_count": 12,
   "id": "5d0b87fc",
   "metadata": {},
   "outputs": [
    {
     "data": {
      "text/html": [
       "<div>\n",
       "<style scoped>\n",
       "    .dataframe tbody tr th:only-of-type {\n",
       "        vertical-align: middle;\n",
       "    }\n",
       "\n",
       "    .dataframe tbody tr th {\n",
       "        vertical-align: top;\n",
       "    }\n",
       "\n",
       "    .dataframe thead th {\n",
       "        text-align: right;\n",
       "    }\n",
       "</style>\n",
       "<table border=\"1\" class=\"dataframe\">\n",
       "  <thead>\n",
       "    <tr style=\"text-align: right;\">\n",
       "      <th></th>\n",
       "      <th>mpg</th>\n",
       "      <th>horsepower</th>\n",
       "      <th>weight</th>\n",
       "    </tr>\n",
       "  </thead>\n",
       "  <tbody>\n",
       "    <tr>\n",
       "      <th>mpg</th>\n",
       "      <td>1.000000</td>\n",
       "      <td>-0.778427</td>\n",
       "      <td>-0.832244</td>\n",
       "    </tr>\n",
       "    <tr>\n",
       "      <th>horsepower</th>\n",
       "      <td>-0.778427</td>\n",
       "      <td>1.000000</td>\n",
       "      <td>0.864538</td>\n",
       "    </tr>\n",
       "    <tr>\n",
       "      <th>weight</th>\n",
       "      <td>-0.832244</td>\n",
       "      <td>0.864538</td>\n",
       "      <td>1.000000</td>\n",
       "    </tr>\n",
       "  </tbody>\n",
       "</table>\n",
       "</div>"
      ],
      "text/plain": [
       "                 mpg  horsepower    weight\n",
       "mpg         1.000000   -0.778427 -0.832244\n",
       "horsepower -0.778427    1.000000  0.864538\n",
       "weight     -0.832244    0.864538  1.000000"
      ]
     },
     "execution_count": 12,
     "metadata": {},
     "output_type": "execute_result"
    }
   ],
   "source": [
    "df[['mpg','horsepower','weight']].corr()"
   ]
  },
  {
   "cell_type": "code",
   "execution_count": 13,
   "id": "7c6d4ac9",
   "metadata": {},
   "outputs": [],
   "source": [
    "from sklearn.model_selection import train_test_split\n",
    "from sklearn.preprocessing import PolynomialFeatures\n",
    "from sklearn.linear_model import LinearRegression"
   ]
  },
  {
   "cell_type": "code",
   "execution_count": 14,
   "id": "b6bfe73b",
   "metadata": {},
   "outputs": [],
   "source": [
    "x_col = ['horsepower','weight']\n",
    "y_col = 'mpg'"
   ]
  },
  {
   "cell_type": "code",
   "execution_count": 15,
   "id": "e65c2ce1",
   "metadata": {},
   "outputs": [],
   "source": [
    "X = df[x_col]\n",
    "y = df[y_col]"
   ]
  },
  {
   "cell_type": "code",
   "execution_count": 16,
   "id": "2d27283a",
   "metadata": {},
   "outputs": [],
   "source": [
    "x_train,x_test,y_train,y_test = train_test_split(X,y,test_size=0.3,random_state=1)"
   ]
  },
  {
   "cell_type": "code",
   "execution_count": 17,
   "id": "6e7d690e",
   "metadata": {},
   "outputs": [
    {
     "data": {
      "text/plain": [
       "LinearRegression()"
      ]
     },
     "execution_count": 17,
     "metadata": {},
     "output_type": "execute_result"
    }
   ],
   "source": [
    "lm = LinearRegression()\n",
    "lm.fit(x_train,y_train)"
   ]
  },
  {
   "cell_type": "code",
   "execution_count": 18,
   "id": "18856dd5",
   "metadata": {},
   "outputs": [
    {
     "data": {
      "text/plain": [
       "(44.822470583215576, array([-0.04898144, -0.00553451]))"
      ]
     },
     "execution_count": 18,
     "metadata": {},
     "output_type": "execute_result"
    }
   ],
   "source": [
    "lm.intercept_,lm.coef_"
   ]
  },
  {
   "cell_type": "code",
   "execution_count": 19,
   "id": "4ad5c09f",
   "metadata": {},
   "outputs": [
    {
     "data": {
      "text/plain": [
       "0.6932437089290188"
      ]
     },
     "execution_count": 19,
     "metadata": {},
     "output_type": "execute_result"
    }
   ],
   "source": [
    "lm.score(x_train,y_train) # R-squared"
   ]
  },
  {
   "cell_type": "code",
   "execution_count": 20,
   "id": "144eda19",
   "metadata": {},
   "outputs": [
    {
     "data": {
      "text/plain": [
       "0.7292547386704167"
      ]
     },
     "execution_count": 20,
     "metadata": {},
     "output_type": "execute_result"
    }
   ],
   "source": [
    "lm.score(x_test,y_test) # R-squared"
   ]
  },
  {
   "cell_type": "code",
   "execution_count": 22,
   "id": "a006b7c5",
   "metadata": {},
   "outputs": [
    {
     "data": {
      "text/plain": [
       "LinearRegression()"
      ]
     },
     "execution_count": 22,
     "metadata": {},
     "output_type": "execute_result"
    }
   ],
   "source": [
    "poly = PolynomialFeatures(degree=2,include_bias=True)\n",
    "x_train_poly = poly.fit_transform(x_train)\n",
    "x_test_poly = poly.fit_transform(x_test)\n",
    "pm = LinearRegression()\n",
    "pm.fit(x_train_poly,y_train)"
   ]
  },
  {
   "cell_type": "code",
   "execution_count": 23,
   "id": "9684caa3",
   "metadata": {},
   "outputs": [
    {
     "data": {
      "text/plain": [
       "{'degree': 2, 'include_bias': True, 'interaction_only': False, 'order': 'C'}"
      ]
     },
     "execution_count": 23,
     "metadata": {},
     "output_type": "execute_result"
    }
   ],
   "source": [
    "poly.get_params()"
   ]
  },
  {
   "cell_type": "code",
   "execution_count": 25,
   "id": "577354c3",
   "metadata": {},
   "outputs": [
    {
     "data": {
      "text/html": [
       "<div>\n",
       "<style scoped>\n",
       "    .dataframe tbody tr th:only-of-type {\n",
       "        vertical-align: middle;\n",
       "    }\n",
       "\n",
       "    .dataframe tbody tr th {\n",
       "        vertical-align: top;\n",
       "    }\n",
       "\n",
       "    .dataframe thead th {\n",
       "        text-align: right;\n",
       "    }\n",
       "</style>\n",
       "<table border=\"1\" class=\"dataframe\">\n",
       "  <thead>\n",
       "    <tr style=\"text-align: right;\">\n",
       "      <th></th>\n",
       "      <th>horsepower</th>\n",
       "      <th>weight</th>\n",
       "    </tr>\n",
       "  </thead>\n",
       "  <tbody>\n",
       "    <tr>\n",
       "      <th>335</th>\n",
       "      <td>88.0</td>\n",
       "      <td>2500</td>\n",
       "    </tr>\n",
       "    <tr>\n",
       "      <th>396</th>\n",
       "      <td>82.0</td>\n",
       "      <td>2720</td>\n",
       "    </tr>\n",
       "    <tr>\n",
       "      <th>393</th>\n",
       "      <td>52.0</td>\n",
       "      <td>2130</td>\n",
       "    </tr>\n",
       "  </tbody>\n",
       "</table>\n",
       "</div>"
      ],
      "text/plain": [
       "     horsepower  weight\n",
       "335        88.0    2500\n",
       "396        82.0    2720\n",
       "393        52.0    2130"
      ]
     },
     "execution_count": 25,
     "metadata": {},
     "output_type": "execute_result"
    }
   ],
   "source": [
    "x_train[:3]"
   ]
  },
  {
   "cell_type": "code",
   "execution_count": 24,
   "id": "b3909c66",
   "metadata": {},
   "outputs": [
    {
     "data": {
      "text/plain": [
       "array([[1.0000e+00, 8.8000e+01, 2.5000e+03, 7.7440e+03, 2.2000e+05,\n",
       "        6.2500e+06],\n",
       "       [1.0000e+00, 8.2000e+01, 2.7200e+03, 6.7240e+03, 2.2304e+05,\n",
       "        7.3984e+06],\n",
       "       [1.0000e+00, 5.2000e+01, 2.1300e+03, 2.7040e+03, 1.1076e+05,\n",
       "        4.5369e+06]])"
      ]
     },
     "execution_count": 24,
     "metadata": {},
     "output_type": "execute_result"
    }
   ],
   "source": [
    "x_train_poly[:3]"
   ]
  },
  {
   "cell_type": "code",
   "execution_count": 26,
   "id": "58ef6fda",
   "metadata": {},
   "outputs": [
    {
     "name": "stderr",
     "output_type": "stream",
     "text": [
      "C:\\Users\\chopp\\anaconda3\\lib\\site-packages\\sklearn\\utils\\deprecation.py:87: FutureWarning: Function get_feature_names is deprecated; get_feature_names is deprecated in 1.0 and will be removed in 1.2. Please use get_feature_names_out instead.\n",
      "  warnings.warn(msg, category=FutureWarning)\n"
     ]
    },
    {
     "data": {
      "text/plain": [
       "['1', 'x0', 'x1', 'x0^2', 'x0 x1', 'x1^2']"
      ]
     },
     "execution_count": 26,
     "metadata": {},
     "output_type": "execute_result"
    }
   ],
   "source": [
    "poly.get_feature_names()"
   ]
  },
  {
   "cell_type": "code",
   "execution_count": 27,
   "id": "57802af7",
   "metadata": {},
   "outputs": [
    {
     "data": {
      "text/plain": [
       "(60.99963811976515,\n",
       " array([ 0.00000000e+00, -2.71309036e-01, -8.77290010e-03,  2.15169279e-04,\n",
       "         4.22566829e-05, -3.58954388e-08]))"
      ]
     },
     "execution_count": 27,
     "metadata": {},
     "output_type": "execute_result"
    }
   ],
   "source": [
    "pm.intercept_,pm.coef_"
   ]
  },
  {
   "cell_type": "code",
   "execution_count": 28,
   "id": "edebf80e",
   "metadata": {},
   "outputs": [
    {
     "data": {
      "text/plain": [
       "0.7344640327916465"
      ]
     },
     "execution_count": 28,
     "metadata": {},
     "output_type": "execute_result"
    }
   ],
   "source": [
    "pm.score(x_train_poly,y_train)"
   ]
  },
  {
   "cell_type": "code",
   "execution_count": 29,
   "id": "81a79c49",
   "metadata": {},
   "outputs": [
    {
     "data": {
      "text/plain": [
       "0.7734567578489351"
      ]
     },
     "execution_count": 29,
     "metadata": {},
     "output_type": "execute_result"
    }
   ],
   "source": [
    "pm.score(x_test_poly,y_test)"
   ]
  },
  {
   "cell_type": "code",
   "execution_count": 30,
   "id": "626c3a28",
   "metadata": {},
   "outputs": [
    {
     "data": {
      "text/html": [
       "<div>\n",
       "<style scoped>\n",
       "    .dataframe tbody tr th:only-of-type {\n",
       "        vertical-align: middle;\n",
       "    }\n",
       "\n",
       "    .dataframe tbody tr th {\n",
       "        vertical-align: top;\n",
       "    }\n",
       "\n",
       "    .dataframe thead th {\n",
       "        text-align: right;\n",
       "    }\n",
       "</style>\n",
       "<table border=\"1\" class=\"dataframe\">\n",
       "  <thead>\n",
       "    <tr style=\"text-align: right;\">\n",
       "      <th></th>\n",
       "      <th>horsepower</th>\n",
       "      <th>weight</th>\n",
       "    </tr>\n",
       "  </thead>\n",
       "  <tbody>\n",
       "    <tr>\n",
       "      <th>82</th>\n",
       "      <td>97.0</td>\n",
       "      <td>2506</td>\n",
       "    </tr>\n",
       "    <tr>\n",
       "      <th>167</th>\n",
       "      <td>75.0</td>\n",
       "      <td>2171</td>\n",
       "    </tr>\n",
       "    <tr>\n",
       "      <th>356</th>\n",
       "      <td>75.0</td>\n",
       "      <td>2350</td>\n",
       "    </tr>\n",
       "  </tbody>\n",
       "</table>\n",
       "</div>"
      ],
      "text/plain": [
       "     horsepower  weight\n",
       "82         97.0    2506\n",
       "167        75.0    2171\n",
       "356        75.0    2350"
      ]
     },
     "execution_count": 30,
     "metadata": {},
     "output_type": "execute_result"
    }
   ],
   "source": [
    "x_test[:3]"
   ]
  },
  {
   "cell_type": "code",
   "execution_count": 33,
   "id": "2cff3f74",
   "metadata": {},
   "outputs": [
    {
     "data": {
      "text/plain": [
       "array([ 0.00000000e+00, -2.71309036e-01, -8.77290010e-03,  2.15169279e-04,\n",
       "        4.22566829e-05, -3.58954388e-08])"
      ]
     },
     "execution_count": 33,
     "metadata": {},
     "output_type": "execute_result"
    }
   ],
   "source": [
    "pm.coef_"
   ]
  },
  {
   "cell_type": "code",
   "execution_count": 31,
   "id": "0593cb43",
   "metadata": {},
   "outputs": [
    {
     "data": {
      "text/plain": [
       "array([[1.000000e+00, 9.700000e+01, 2.506000e+03, 9.409000e+03,\n",
       "        2.430820e+05, 6.280036e+06],\n",
       "       [1.000000e+00, 7.500000e+01, 2.171000e+03, 5.625000e+03,\n",
       "        1.628250e+05, 4.713241e+06],\n",
       "       [1.000000e+00, 7.500000e+01, 2.350000e+03, 5.625000e+03,\n",
       "        1.762500e+05, 5.522500e+06]])"
      ]
     },
     "execution_count": 31,
     "metadata": {},
     "output_type": "execute_result"
    }
   ],
   "source": [
    "x_test_poly[:3]"
   ]
  },
  {
   "cell_type": "code",
   "execution_count": 32,
   "id": "76c22f53",
   "metadata": {},
   "outputs": [
    {
     "data": {
      "text/plain": [
       "24.768716059040564"
      ]
     },
     "execution_count": 32,
     "metadata": {},
     "output_type": "execute_result"
    }
   ],
   "source": [
    "pm.intercept_+sum((pm.coef_* x_test_poly[0]))"
   ]
  },
  {
   "cell_type": "code",
   "execution_count": 34,
   "id": "2c94c457",
   "metadata": {
    "scrolled": true
   },
   "outputs": [
    {
     "data": {
      "text/plain": [
       "array([26.20179173, 29.13344391, 28.14276685])"
      ]
     },
     "execution_count": 34,
     "metadata": {},
     "output_type": "execute_result"
    }
   ],
   "source": [
    "lm.predict(x_test[:3])"
   ]
  },
  {
   "cell_type": "code",
   "execution_count": 36,
   "id": "91f64ad9",
   "metadata": {},
   "outputs": [
    {
     "data": {
      "text/plain": [
       "array([24.76871606, 29.52708203, 28.49498017])"
      ]
     },
     "execution_count": 36,
     "metadata": {},
     "output_type": "execute_result"
    }
   ],
   "source": [
    "pm.predict(x_test_poly[:3])"
   ]
  },
  {
   "cell_type": "code",
   "execution_count": 37,
   "id": "e5cfeba1",
   "metadata": {},
   "outputs": [
    {
     "data": {
      "text/plain": [
       "82     23.0\n",
       "167    29.0\n",
       "356    32.4\n",
       "Name: mpg, dtype: float64"
      ]
     },
     "execution_count": 37,
     "metadata": {},
     "output_type": "execute_result"
    }
   ],
   "source": [
    "y_test[:3]"
   ]
  },
  {
   "cell_type": "code",
   "execution_count": 38,
   "id": "beac1bdc",
   "metadata": {},
   "outputs": [
    {
     "data": {
      "text/plain": [
       "array([24.76871606])"
      ]
     },
     "execution_count": 38,
     "metadata": {},
     "output_type": "execute_result"
    }
   ],
   "source": [
    "pm.predict(poly.fit_transform([[97,2506]]))"
   ]
  },
  {
   "cell_type": "code",
   "execution_count": 40,
   "id": "ebbf7e5d",
   "metadata": {},
   "outputs": [
    {
     "name": "stderr",
     "output_type": "stream",
     "text": [
      "C:\\Users\\chopp\\anaconda3\\lib\\site-packages\\sklearn\\base.py:450: UserWarning: X does not have valid feature names, but LinearRegression was fitted with feature names\n",
      "  warnings.warn(\n"
     ]
    },
    {
     "data": {
      "text/plain": [
       "array([26.20179173])"
      ]
     },
     "execution_count": 40,
     "metadata": {},
     "output_type": "execute_result"
    }
   ],
   "source": [
    "lm.predict([[97,2506]])"
   ]
  },
  {
   "cell_type": "code",
   "execution_count": 41,
   "id": "a17dbca0",
   "metadata": {},
   "outputs": [
    {
     "data": {
      "text/plain": [
       "array([24.76871606, 29.52708203, 28.49498017])"
      ]
     },
     "execution_count": 41,
     "metadata": {},
     "output_type": "execute_result"
    }
   ],
   "source": [
    "pm.predict(x_test_poly[:3])"
   ]
  },
  {
   "cell_type": "markdown",
   "id": "9b5a8005",
   "metadata": {},
   "source": [
    "### Pipeline"
   ]
  },
  {
   "cell_type": "code",
   "execution_count": 46,
   "id": "a68e5c10",
   "metadata": {},
   "outputs": [
    {
     "name": "stdout",
     "output_type": "stream",
     "text": [
      "[Pipeline]  (step 1 of 2) Processing polynomialfeatures, total=   0.0s\n",
      "[Pipeline] .. (step 2 of 2) Processing linearregression, total=   0.0s\n"
     ]
    },
    {
     "data": {
      "text/plain": [
       "Pipeline(steps=[('polynomialfeatures', PolynomialFeatures()),\n",
       "                ('linearregression', LinearRegression())],\n",
       "         verbose=True)"
      ]
     },
     "execution_count": 46,
     "metadata": {},
     "output_type": "execute_result"
    }
   ],
   "source": [
    "from sklearn.pipeline import make_pipeline\n",
    "degree = 2\n",
    "pm2 = make_pipeline(PolynomialFeatures(degree),LinearRegression(),verbose=True)\n",
    "pm2.fit(x_train,y_train)"
   ]
  },
  {
   "cell_type": "code",
   "execution_count": 44,
   "id": "3eb1a3e0",
   "metadata": {},
   "outputs": [
    {
     "data": {
      "text/plain": [
       "{'memory': None,\n",
       " 'steps': [('polynomialfeatures', PolynomialFeatures()),\n",
       "  ('linearregression', LinearRegression())],\n",
       " 'verbose': True,\n",
       " 'polynomialfeatures': PolynomialFeatures(),\n",
       " 'linearregression': LinearRegression(),\n",
       " 'polynomialfeatures__degree': 2,\n",
       " 'polynomialfeatures__include_bias': True,\n",
       " 'polynomialfeatures__interaction_only': False,\n",
       " 'polynomialfeatures__order': 'C',\n",
       " 'linearregression__copy_X': True,\n",
       " 'linearregression__fit_intercept': True,\n",
       " 'linearregression__n_jobs': None,\n",
       " 'linearregression__normalize': 'deprecated',\n",
       " 'linearregression__positive': False}"
      ]
     },
     "execution_count": 44,
     "metadata": {},
     "output_type": "execute_result"
    }
   ],
   "source": [
    "pm2.get_params()"
   ]
  },
  {
   "cell_type": "code",
   "execution_count": 47,
   "id": "26d16890",
   "metadata": {},
   "outputs": [
    {
     "data": {
      "text/plain": [
       "0.7344640327916465"
      ]
     },
     "execution_count": 47,
     "metadata": {},
     "output_type": "execute_result"
    }
   ],
   "source": [
    "pm2.score(x_train,y_train)"
   ]
  },
  {
   "cell_type": "code",
   "execution_count": 48,
   "id": "c7ff2c32",
   "metadata": {},
   "outputs": [
    {
     "data": {
      "text/plain": [
       "0.7734567578489351"
      ]
     },
     "execution_count": 48,
     "metadata": {},
     "output_type": "execute_result"
    }
   ],
   "source": [
    "pm2.score(x_test,y_test)"
   ]
  },
  {
   "cell_type": "code",
   "execution_count": 49,
   "id": "c93b0044",
   "metadata": {},
   "outputs": [
    {
     "data": {
      "text/html": [
       "<div>\n",
       "<style scoped>\n",
       "    .dataframe tbody tr th:only-of-type {\n",
       "        vertical-align: middle;\n",
       "    }\n",
       "\n",
       "    .dataframe tbody tr th {\n",
       "        vertical-align: top;\n",
       "    }\n",
       "\n",
       "    .dataframe thead th {\n",
       "        text-align: right;\n",
       "    }\n",
       "</style>\n",
       "<table border=\"1\" class=\"dataframe\">\n",
       "  <thead>\n",
       "    <tr style=\"text-align: right;\">\n",
       "      <th></th>\n",
       "      <th>horsepower</th>\n",
       "      <th>weight</th>\n",
       "    </tr>\n",
       "  </thead>\n",
       "  <tbody>\n",
       "    <tr>\n",
       "      <th>82</th>\n",
       "      <td>97.0</td>\n",
       "      <td>2506</td>\n",
       "    </tr>\n",
       "    <tr>\n",
       "      <th>167</th>\n",
       "      <td>75.0</td>\n",
       "      <td>2171</td>\n",
       "    </tr>\n",
       "    <tr>\n",
       "      <th>356</th>\n",
       "      <td>75.0</td>\n",
       "      <td>2350</td>\n",
       "    </tr>\n",
       "  </tbody>\n",
       "</table>\n",
       "</div>"
      ],
      "text/plain": [
       "     horsepower  weight\n",
       "82         97.0    2506\n",
       "167        75.0    2171\n",
       "356        75.0    2350"
      ]
     },
     "execution_count": 49,
     "metadata": {},
     "output_type": "execute_result"
    }
   ],
   "source": [
    "x_test[:3]"
   ]
  },
  {
   "cell_type": "code",
   "execution_count": 50,
   "id": "164a1ed3",
   "metadata": {},
   "outputs": [
    {
     "data": {
      "text/plain": [
       "array([24.76871606, 29.52708203, 28.49498017])"
      ]
     },
     "execution_count": 50,
     "metadata": {},
     "output_type": "execute_result"
    }
   ],
   "source": [
    "pm2.predict(x_test[:3])"
   ]
  },
  {
   "cell_type": "code",
   "execution_count": 52,
   "id": "d2cfbc09",
   "metadata": {
    "scrolled": true
   },
   "outputs": [
    {
     "name": "stderr",
     "output_type": "stream",
     "text": [
      "C:\\Users\\chopp\\anaconda3\\lib\\site-packages\\sklearn\\base.py:450: UserWarning: X does not have valid feature names, but PolynomialFeatures was fitted with feature names\n",
      "  warnings.warn(\n"
     ]
    },
    {
     "data": {
      "text/plain": [
       "array([24.76871606])"
      ]
     },
     "execution_count": 52,
     "metadata": {},
     "output_type": "execute_result"
    }
   ],
   "source": [
    "pm2.predict([[97,2506]])"
   ]
  },
  {
   "cell_type": "markdown",
   "id": "4c1a5406",
   "metadata": {},
   "source": [
    "### Stats Models"
   ]
  },
  {
   "cell_type": "code",
   "execution_count": 54,
   "id": "4eae97a9",
   "metadata": {},
   "outputs": [
    {
     "data": {
      "text/html": [
       "<div>\n",
       "<style scoped>\n",
       "    .dataframe tbody tr th:only-of-type {\n",
       "        vertical-align: middle;\n",
       "    }\n",
       "\n",
       "    .dataframe tbody tr th {\n",
       "        vertical-align: top;\n",
       "    }\n",
       "\n",
       "    .dataframe thead th {\n",
       "        text-align: right;\n",
       "    }\n",
       "</style>\n",
       "<table border=\"1\" class=\"dataframe\">\n",
       "  <thead>\n",
       "    <tr style=\"text-align: right;\">\n",
       "      <th></th>\n",
       "      <th>horsepower</th>\n",
       "      <th>weight</th>\n",
       "      <th>mpg</th>\n",
       "    </tr>\n",
       "  </thead>\n",
       "  <tbody>\n",
       "    <tr>\n",
       "      <th>335</th>\n",
       "      <td>88.0</td>\n",
       "      <td>2500</td>\n",
       "      <td>35.0</td>\n",
       "    </tr>\n",
       "    <tr>\n",
       "      <th>396</th>\n",
       "      <td>82.0</td>\n",
       "      <td>2720</td>\n",
       "      <td>31.0</td>\n",
       "    </tr>\n",
       "    <tr>\n",
       "      <th>393</th>\n",
       "      <td>52.0</td>\n",
       "      <td>2130</td>\n",
       "      <td>44.0</td>\n",
       "    </tr>\n",
       "    <tr>\n",
       "      <th>29</th>\n",
       "      <td>88.0</td>\n",
       "      <td>2130</td>\n",
       "      <td>27.0</td>\n",
       "    </tr>\n",
       "    <tr>\n",
       "      <th>275</th>\n",
       "      <td>125.0</td>\n",
       "      <td>3140</td>\n",
       "      <td>17.0</td>\n",
       "    </tr>\n",
       "  </tbody>\n",
       "</table>\n",
       "</div>"
      ],
      "text/plain": [
       "     horsepower  weight   mpg\n",
       "335        88.0    2500  35.0\n",
       "396        82.0    2720  31.0\n",
       "393        52.0    2130  44.0\n",
       "29         88.0    2130  27.0\n",
       "275       125.0    3140  17.0"
      ]
     },
     "execution_count": 54,
     "metadata": {},
     "output_type": "execute_result"
    }
   ],
   "source": [
    "dt = x_train.copy()\n",
    "dt[y_col] = y_train\n",
    "dt[:5]"
   ]
  },
  {
   "cell_type": "code",
   "execution_count": 61,
   "id": "fd5ab1af",
   "metadata": {},
   "outputs": [
    {
     "name": "stderr",
     "output_type": "stream",
     "text": [
      "C:\\Users\\chopp\\anaconda3\\lib\\site-packages\\sklearn\\utils\\deprecation.py:87: FutureWarning: Function get_feature_names is deprecated; get_feature_names is deprecated in 1.0 and will be removed in 1.2. Please use get_feature_names_out instead.\n",
      "  warnings.warn(msg, category=FutureWarning)\n"
     ]
    },
    {
     "data": {
      "text/plain": [
       "['1', 'x0', 'x1', 'x0^2', 'x0 x1', 'x1^2']"
      ]
     },
     "execution_count": 61,
     "metadata": {},
     "output_type": "execute_result"
    }
   ],
   "source": [
    "poly.get_feature_names()"
   ]
  },
  {
   "cell_type": "code",
   "execution_count": 73,
   "id": "467ccc25",
   "metadata": {},
   "outputs": [],
   "source": [
    "import statsmodels.formula.api as smf\n",
    "formula = 'mpg~horsepower+weight+I(horsepower**2)+horsepower*weight+I(weight**2)'\n",
    "model1 = smf.ols(formula = formula,data=dt)\n",
    "model1_fit = model1.fit()"
   ]
  },
  {
   "cell_type": "code",
   "execution_count": 74,
   "id": "351ee857",
   "metadata": {},
   "outputs": [
    {
     "data": {
      "text/html": [
       "<table class=\"simpletable\">\n",
       "<caption>OLS Regression Results</caption>\n",
       "<tr>\n",
       "  <th>Dep. Variable:</th>           <td>mpg</td>       <th>  R-squared:         </th> <td>   0.734</td>\n",
       "</tr>\n",
       "<tr>\n",
       "  <th>Model:</th>                   <td>OLS</td>       <th>  Adj. R-squared:    </th> <td>   0.730</td>\n",
       "</tr>\n",
       "<tr>\n",
       "  <th>Method:</th>             <td>Least Squares</td>  <th>  F-statistic:       </th> <td>   148.3</td>\n",
       "</tr>\n",
       "<tr>\n",
       "  <th>Date:</th>             <td>Sun, 09 Apr 2023</td> <th>  Prob (F-statistic):</th> <td>5.09e-75</td>\n",
       "</tr>\n",
       "<tr>\n",
       "  <th>Time:</th>                 <td>16:59:48</td>     <th>  Log-Likelihood:    </th> <td> -764.10</td>\n",
       "</tr>\n",
       "<tr>\n",
       "  <th>No. Observations:</th>      <td>   274</td>      <th>  AIC:               </th> <td>   1540.</td>\n",
       "</tr>\n",
       "<tr>\n",
       "  <th>Df Residuals:</th>          <td>   268</td>      <th>  BIC:               </th> <td>   1562.</td>\n",
       "</tr>\n",
       "<tr>\n",
       "  <th>Df Model:</th>              <td>     5</td>      <th>                     </th>     <td> </td>   \n",
       "</tr>\n",
       "<tr>\n",
       "  <th>Covariance Type:</th>      <td>nonrobust</td>    <th>                     </th>     <td> </td>   \n",
       "</tr>\n",
       "</table>\n",
       "<table class=\"simpletable\">\n",
       "<tr>\n",
       "           <td></td>             <th>coef</th>     <th>std err</th>      <th>t</th>      <th>P>|t|</th>  <th>[0.025</th>    <th>0.975]</th>  \n",
       "</tr>\n",
       "<tr>\n",
       "  <th>Intercept</th>          <td>   60.9996</td> <td>    3.604</td> <td>   16.924</td> <td> 0.000</td> <td>   53.903</td> <td>   68.096</td>\n",
       "</tr>\n",
       "<tr>\n",
       "  <th>horsepower</th>         <td>   -0.2713</td> <td>    0.073</td> <td>   -3.713</td> <td> 0.000</td> <td>   -0.415</td> <td>   -0.127</td>\n",
       "</tr>\n",
       "<tr>\n",
       "  <th>weight</th>             <td>   -0.0088</td> <td>    0.004</td> <td>   -2.252</td> <td> 0.025</td> <td>   -0.016</td> <td>   -0.001</td>\n",
       "</tr>\n",
       "<tr>\n",
       "  <th>I(horsepower ** 2)</th> <td>    0.0002</td> <td>    0.000</td> <td>    0.483</td> <td> 0.630</td> <td>   -0.001</td> <td>    0.001</td>\n",
       "</tr>\n",
       "<tr>\n",
       "  <th>horsepower:weight</th>  <td> 4.226e-05</td> <td> 4.62e-05</td> <td>    0.915</td> <td> 0.361</td> <td>-4.87e-05</td> <td>    0.000</td>\n",
       "</tr>\n",
       "<tr>\n",
       "  <th>I(weight ** 2)</th>     <td> -3.59e-08</td> <td> 1.29e-06</td> <td>   -0.028</td> <td> 0.978</td> <td>-2.58e-06</td> <td>  2.5e-06</td>\n",
       "</tr>\n",
       "</table>\n",
       "<table class=\"simpletable\">\n",
       "<tr>\n",
       "  <th>Omnibus:</th>       <td>18.453</td> <th>  Durbin-Watson:     </th> <td>   1.996</td>\n",
       "</tr>\n",
       "<tr>\n",
       "  <th>Prob(Omnibus):</th> <td> 0.000</td> <th>  Jarque-Bera (JB):  </th> <td>  26.334</td>\n",
       "</tr>\n",
       "<tr>\n",
       "  <th>Skew:</th>          <td> 0.470</td> <th>  Prob(JB):          </th> <td>1.91e-06</td>\n",
       "</tr>\n",
       "<tr>\n",
       "  <th>Kurtosis:</th>      <td> 4.194</td> <th>  Cond. No.          </th> <td>1.64e+08</td>\n",
       "</tr>\n",
       "</table><br/><br/>Notes:<br/>[1] Standard Errors assume that the covariance matrix of the errors is correctly specified.<br/>[2] The condition number is large, 1.64e+08. This might indicate that there are<br/>strong multicollinearity or other numerical problems."
      ],
      "text/plain": [
       "<class 'statsmodels.iolib.summary.Summary'>\n",
       "\"\"\"\n",
       "                            OLS Regression Results                            \n",
       "==============================================================================\n",
       "Dep. Variable:                    mpg   R-squared:                       0.734\n",
       "Model:                            OLS   Adj. R-squared:                  0.730\n",
       "Method:                 Least Squares   F-statistic:                     148.3\n",
       "Date:                Sun, 09 Apr 2023   Prob (F-statistic):           5.09e-75\n",
       "Time:                        16:59:48   Log-Likelihood:                -764.10\n",
       "No. Observations:                 274   AIC:                             1540.\n",
       "Df Residuals:                     268   BIC:                             1562.\n",
       "Df Model:                           5                                         \n",
       "Covariance Type:            nonrobust                                         \n",
       "======================================================================================\n",
       "                         coef    std err          t      P>|t|      [0.025      0.975]\n",
       "--------------------------------------------------------------------------------------\n",
       "Intercept             60.9996      3.604     16.924      0.000      53.903      68.096\n",
       "horsepower            -0.2713      0.073     -3.713      0.000      -0.415      -0.127\n",
       "weight                -0.0088      0.004     -2.252      0.025      -0.016      -0.001\n",
       "I(horsepower ** 2)     0.0002      0.000      0.483      0.630      -0.001       0.001\n",
       "horsepower:weight   4.226e-05   4.62e-05      0.915      0.361   -4.87e-05       0.000\n",
       "I(weight ** 2)      -3.59e-08   1.29e-06     -0.028      0.978   -2.58e-06     2.5e-06\n",
       "==============================================================================\n",
       "Omnibus:                       18.453   Durbin-Watson:                   1.996\n",
       "Prob(Omnibus):                  0.000   Jarque-Bera (JB):               26.334\n",
       "Skew:                           0.470   Prob(JB):                     1.91e-06\n",
       "Kurtosis:                       4.194   Cond. No.                     1.64e+08\n",
       "==============================================================================\n",
       "\n",
       "Notes:\n",
       "[1] Standard Errors assume that the covariance matrix of the errors is correctly specified.\n",
       "[2] The condition number is large, 1.64e+08. This might indicate that there are\n",
       "strong multicollinearity or other numerical problems.\n",
       "\"\"\""
      ]
     },
     "execution_count": 74,
     "metadata": {},
     "output_type": "execute_result"
    }
   ],
   "source": [
    "model1_fit.summary()"
   ]
  },
  {
   "cell_type": "code",
   "execution_count": 71,
   "id": "e656963d",
   "metadata": {},
   "outputs": [
    {
     "data": {
      "text/plain": [
       "(60.99963811976515,\n",
       " array([ 0.00000000e+00, -2.71309036e-01, -8.77290010e-03,  2.15169279e-04,\n",
       "         4.22566829e-05, -3.58954388e-08]))"
      ]
     },
     "execution_count": 71,
     "metadata": {},
     "output_type": "execute_result"
    }
   ],
   "source": [
    "pm.intercept_,pm.coef_"
   ]
  },
  {
   "cell_type": "markdown",
   "id": "623d3b3b",
   "metadata": {},
   "source": [
    "### method2 (use sm.OLS)"
   ]
  },
  {
   "cell_type": "code",
   "execution_count": 75,
   "id": "c746af78",
   "metadata": {},
   "outputs": [
    {
     "data": {
      "text/plain": [
       "array([[1.0000e+00, 8.8000e+01, 2.5000e+03, 7.7440e+03, 2.2000e+05,\n",
       "        6.2500e+06],\n",
       "       [1.0000e+00, 8.2000e+01, 2.7200e+03, 6.7240e+03, 2.2304e+05,\n",
       "        7.3984e+06],\n",
       "       [1.0000e+00, 5.2000e+01, 2.1300e+03, 2.7040e+03, 1.1076e+05,\n",
       "        4.5369e+06]])"
      ]
     },
     "execution_count": 75,
     "metadata": {},
     "output_type": "execute_result"
    }
   ],
   "source": [
    "x_train_poly[:3]"
   ]
  },
  {
   "cell_type": "code",
   "execution_count": 76,
   "id": "ca9c0537",
   "metadata": {},
   "outputs": [
    {
     "data": {
      "text/html": [
       "<table class=\"simpletable\">\n",
       "<caption>OLS Regression Results</caption>\n",
       "<tr>\n",
       "  <th>Dep. Variable:</th>           <td>mpg</td>       <th>  R-squared:         </th> <td>   0.734</td>\n",
       "</tr>\n",
       "<tr>\n",
       "  <th>Model:</th>                   <td>OLS</td>       <th>  Adj. R-squared:    </th> <td>   0.730</td>\n",
       "</tr>\n",
       "<tr>\n",
       "  <th>Method:</th>             <td>Least Squares</td>  <th>  F-statistic:       </th> <td>   148.3</td>\n",
       "</tr>\n",
       "<tr>\n",
       "  <th>Date:</th>             <td>Sun, 09 Apr 2023</td> <th>  Prob (F-statistic):</th> <td>5.09e-75</td>\n",
       "</tr>\n",
       "<tr>\n",
       "  <th>Time:</th>                 <td>17:02:57</td>     <th>  Log-Likelihood:    </th> <td> -764.10</td>\n",
       "</tr>\n",
       "<tr>\n",
       "  <th>No. Observations:</th>      <td>   274</td>      <th>  AIC:               </th> <td>   1540.</td>\n",
       "</tr>\n",
       "<tr>\n",
       "  <th>Df Residuals:</th>          <td>   268</td>      <th>  BIC:               </th> <td>   1562.</td>\n",
       "</tr>\n",
       "<tr>\n",
       "  <th>Df Model:</th>              <td>     5</td>      <th>                     </th>     <td> </td>   \n",
       "</tr>\n",
       "<tr>\n",
       "  <th>Covariance Type:</th>      <td>nonrobust</td>    <th>                     </th>     <td> </td>   \n",
       "</tr>\n",
       "</table>\n",
       "<table class=\"simpletable\">\n",
       "<tr>\n",
       "    <td></td>       <th>coef</th>     <th>std err</th>      <th>t</th>      <th>P>|t|</th>  <th>[0.025</th>    <th>0.975]</th>  \n",
       "</tr>\n",
       "<tr>\n",
       "  <th>const</th> <td>   60.9996</td> <td>    3.604</td> <td>   16.924</td> <td> 0.000</td> <td>   53.903</td> <td>   68.096</td>\n",
       "</tr>\n",
       "<tr>\n",
       "  <th>x1</th>    <td>   -0.2713</td> <td>    0.073</td> <td>   -3.713</td> <td> 0.000</td> <td>   -0.415</td> <td>   -0.127</td>\n",
       "</tr>\n",
       "<tr>\n",
       "  <th>x2</th>    <td>   -0.0088</td> <td>    0.004</td> <td>   -2.252</td> <td> 0.025</td> <td>   -0.016</td> <td>   -0.001</td>\n",
       "</tr>\n",
       "<tr>\n",
       "  <th>x3</th>    <td>    0.0002</td> <td>    0.000</td> <td>    0.483</td> <td> 0.630</td> <td>   -0.001</td> <td>    0.001</td>\n",
       "</tr>\n",
       "<tr>\n",
       "  <th>x4</th>    <td> 4.226e-05</td> <td> 4.62e-05</td> <td>    0.915</td> <td> 0.361</td> <td>-4.87e-05</td> <td>    0.000</td>\n",
       "</tr>\n",
       "<tr>\n",
       "  <th>x5</th>    <td> -3.59e-08</td> <td> 1.29e-06</td> <td>   -0.028</td> <td> 0.978</td> <td>-2.58e-06</td> <td>  2.5e-06</td>\n",
       "</tr>\n",
       "</table>\n",
       "<table class=\"simpletable\">\n",
       "<tr>\n",
       "  <th>Omnibus:</th>       <td>18.453</td> <th>  Durbin-Watson:     </th> <td>   1.996</td>\n",
       "</tr>\n",
       "<tr>\n",
       "  <th>Prob(Omnibus):</th> <td> 0.000</td> <th>  Jarque-Bera (JB):  </th> <td>  26.334</td>\n",
       "</tr>\n",
       "<tr>\n",
       "  <th>Skew:</th>          <td> 0.470</td> <th>  Prob(JB):          </th> <td>1.91e-06</td>\n",
       "</tr>\n",
       "<tr>\n",
       "  <th>Kurtosis:</th>      <td> 4.194</td> <th>  Cond. No.          </th> <td>1.64e+08</td>\n",
       "</tr>\n",
       "</table><br/><br/>Notes:<br/>[1] Standard Errors assume that the covariance matrix of the errors is correctly specified.<br/>[2] The condition number is large, 1.64e+08. This might indicate that there are<br/>strong multicollinearity or other numerical problems."
      ],
      "text/plain": [
       "<class 'statsmodels.iolib.summary.Summary'>\n",
       "\"\"\"\n",
       "                            OLS Regression Results                            \n",
       "==============================================================================\n",
       "Dep. Variable:                    mpg   R-squared:                       0.734\n",
       "Model:                            OLS   Adj. R-squared:                  0.730\n",
       "Method:                 Least Squares   F-statistic:                     148.3\n",
       "Date:                Sun, 09 Apr 2023   Prob (F-statistic):           5.09e-75\n",
       "Time:                        17:02:57   Log-Likelihood:                -764.10\n",
       "No. Observations:                 274   AIC:                             1540.\n",
       "Df Residuals:                     268   BIC:                             1562.\n",
       "Df Model:                           5                                         \n",
       "Covariance Type:            nonrobust                                         \n",
       "==============================================================================\n",
       "                 coef    std err          t      P>|t|      [0.025      0.975]\n",
       "------------------------------------------------------------------------------\n",
       "const         60.9996      3.604     16.924      0.000      53.903      68.096\n",
       "x1            -0.2713      0.073     -3.713      0.000      -0.415      -0.127\n",
       "x2            -0.0088      0.004     -2.252      0.025      -0.016      -0.001\n",
       "x3             0.0002      0.000      0.483      0.630      -0.001       0.001\n",
       "x4          4.226e-05   4.62e-05      0.915      0.361   -4.87e-05       0.000\n",
       "x5          -3.59e-08   1.29e-06     -0.028      0.978   -2.58e-06     2.5e-06\n",
       "==============================================================================\n",
       "Omnibus:                       18.453   Durbin-Watson:                   1.996\n",
       "Prob(Omnibus):                  0.000   Jarque-Bera (JB):               26.334\n",
       "Skew:                           0.470   Prob(JB):                     1.91e-06\n",
       "Kurtosis:                       4.194   Cond. No.                     1.64e+08\n",
       "==============================================================================\n",
       "\n",
       "Notes:\n",
       "[1] Standard Errors assume that the covariance matrix of the errors is correctly specified.\n",
       "[2] The condition number is large, 1.64e+08. This might indicate that there are\n",
       "strong multicollinearity or other numerical problems.\n",
       "\"\"\""
      ]
     },
     "execution_count": 76,
     "metadata": {},
     "output_type": "execute_result"
    }
   ],
   "source": [
    "import statsmodels.api as sm\n",
    "model2 = sm.OLS(y_train,x_train_poly)\n",
    "model2_fit = model2.fit()\n",
    "model2_fit.summary()"
   ]
  },
  {
   "cell_type": "code",
   "execution_count": 77,
   "id": "d3d11768",
   "metadata": {},
   "outputs": [
    {
     "data": {
      "text/plain": [
       "array([24.76871606, 29.52708203, 28.49498017])"
      ]
     },
     "execution_count": 77,
     "metadata": {},
     "output_type": "execute_result"
    }
   ],
   "source": [
    "model2_fit.predict(x_test_poly[:3])"
   ]
  },
  {
   "cell_type": "code",
   "execution_count": 86,
   "id": "afff90f3",
   "metadata": {},
   "outputs": [
    {
     "data": {
      "text/plain": [
       "array([24.76871606])"
      ]
     },
     "execution_count": 86,
     "metadata": {},
     "output_type": "execute_result"
    }
   ],
   "source": [
    "model2_fit.predict(poly.fit_transform([[97,2506]]))"
   ]
  },
  {
   "cell_type": "code",
   "execution_count": 84,
   "id": "569d01ae",
   "metadata": {},
   "outputs": [
    {
     "data": {
      "text/plain": [
       "82     24.768716\n",
       "167    29.527082\n",
       "356    28.494980\n",
       "dtype: float64"
      ]
     },
     "execution_count": 84,
     "metadata": {},
     "output_type": "execute_result"
    }
   ],
   "source": [
    "model1_fit.predict(x_test[:3])"
   ]
  },
  {
   "cell_type": "code",
   "execution_count": 79,
   "id": "29c58257",
   "metadata": {},
   "outputs": [
    {
     "data": {
      "text/plain": [
       "array([24.76871606, 29.52708203, 28.49498017])"
      ]
     },
     "execution_count": 79,
     "metadata": {},
     "output_type": "execute_result"
    }
   ],
   "source": [
    "pm.predict(x_test_poly[:3])"
   ]
  },
  {
   "cell_type": "code",
   "execution_count": 80,
   "id": "f4a77711",
   "metadata": {},
   "outputs": [
    {
     "data": {
      "text/plain": [
       "array([24.76871606, 29.52708203, 28.49498017])"
      ]
     },
     "execution_count": 80,
     "metadata": {},
     "output_type": "execute_result"
    }
   ],
   "source": [
    "pm2.predict(x_test[:3])"
   ]
  },
  {
   "cell_type": "code",
   "execution_count": 87,
   "id": "0068d460",
   "metadata": {},
   "outputs": [
    {
     "name": "stderr",
     "output_type": "stream",
     "text": [
      "C:\\Users\\chopp\\anaconda3\\lib\\site-packages\\sklearn\\base.py:450: UserWarning: X does not have valid feature names, but PolynomialFeatures was fitted with feature names\n",
      "  warnings.warn(\n"
     ]
    },
    {
     "data": {
      "text/plain": [
       "array([24.76871606])"
      ]
     },
     "execution_count": 87,
     "metadata": {},
     "output_type": "execute_result"
    },
    {
     "name": "stdout",
     "output_type": "stream",
     "text": [
      "ERROR! Session/line number was not unique in database. History logging moved to new session 367\n"
     ]
    }
   ],
   "source": [
    "pm2.predict([[97,2506]])"
   ]
  }
 ],
 "metadata": {
  "kernelspec": {
   "display_name": "Python 3 (ipykernel)",
   "language": "python",
   "name": "python3"
  },
  "language_info": {
   "codemirror_mode": {
    "name": "ipython",
    "version": 3
   },
   "file_extension": ".py",
   "mimetype": "text/x-python",
   "name": "python",
   "nbconvert_exporter": "python",
   "pygments_lexer": "ipython3",
   "version": "3.9.13"
  }
 },
 "nbformat": 4,
 "nbformat_minor": 5
}
