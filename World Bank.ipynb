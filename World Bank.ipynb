{
 "cells": [
  {
   "cell_type": "code",
   "execution_count": 2,
   "id": "124221c4",
   "metadata": {},
   "outputs": [],
   "source": [
    "import pandas as pd\n",
    "import matplotlib.pyplot as plt\n",
    "import seaborn as sns\n",
    "%matplotlib inline #แสดงกราฟใน notebook ได้\n",
    "%config InlineBacked.fugure_format = 'ratina' # คมชัดขึ้น"
   ]
  },
  {
   "cell_type": "code",
   "execution_count": 5,
   "id": "59f1f7c2",
   "metadata": {},
   "outputs": [
    {
     "name": "stdout",
     "output_type": "stream",
     "text": [
      "pandas version :1.4.4\n",
      "seaborn version :0.11.2\n"
     ]
    }
   ],
   "source": [
    "print(f'pandas version :{pd.__version__}')\n",
    "print(f'seaborn version :{sns.__version__}')"
   ]
  },
  {
   "cell_type": "code",
   "execution_count": 6,
   "id": "6848203c",
   "metadata": {},
   "outputs": [
    {
     "data": {
      "text/html": [
       "<div>\n",
       "<style scoped>\n",
       "    .dataframe tbody tr th:only-of-type {\n",
       "        vertical-align: middle;\n",
       "    }\n",
       "\n",
       "    .dataframe tbody tr th {\n",
       "        vertical-align: top;\n",
       "    }\n",
       "\n",
       "    .dataframe thead th {\n",
       "        text-align: right;\n",
       "    }\n",
       "</style>\n",
       "<table border=\"1\" class=\"dataframe\">\n",
       "  <thead>\n",
       "    <tr style=\"text-align: right;\">\n",
       "      <th></th>\n",
       "      <th>Country Name</th>\n",
       "      <th>Country Code</th>\n",
       "      <th>Indicator Name</th>\n",
       "      <th>Indicator Code</th>\n",
       "      <th>1960</th>\n",
       "      <th>1961</th>\n",
       "      <th>1962</th>\n",
       "      <th>1963</th>\n",
       "      <th>1964</th>\n",
       "      <th>1965</th>\n",
       "      <th>...</th>\n",
       "      <th>2012</th>\n",
       "      <th>2013</th>\n",
       "      <th>2014</th>\n",
       "      <th>2015</th>\n",
       "      <th>2016</th>\n",
       "      <th>2017</th>\n",
       "      <th>2018</th>\n",
       "      <th>2019</th>\n",
       "      <th>2020</th>\n",
       "      <th>2021</th>\n",
       "    </tr>\n",
       "  </thead>\n",
       "  <tbody>\n",
       "    <tr>\n",
       "      <th>0</th>\n",
       "      <td>Aruba</td>\n",
       "      <td>ABW</td>\n",
       "      <td>Government expenditure on education, total (% ...</td>\n",
       "      <td>SE.XPD.TOTL.GD.ZS</td>\n",
       "      <td>NaN</td>\n",
       "      <td>NaN</td>\n",
       "      <td>NaN</td>\n",
       "      <td>NaN</td>\n",
       "      <td>NaN</td>\n",
       "      <td>NaN</td>\n",
       "      <td>...</td>\n",
       "      <td>6.549060</td>\n",
       "      <td>6.44296</td>\n",
       "      <td>5.85128</td>\n",
       "      <td>5.888270</td>\n",
       "      <td>5.491350</td>\n",
       "      <td>NaN</td>\n",
       "      <td>NaN</td>\n",
       "      <td>NaN</td>\n",
       "      <td>NaN</td>\n",
       "      <td>NaN</td>\n",
       "    </tr>\n",
       "    <tr>\n",
       "      <th>1</th>\n",
       "      <td>Africa Eastern and Southern</td>\n",
       "      <td>AFE</td>\n",
       "      <td>Government expenditure on education, total (% ...</td>\n",
       "      <td>SE.XPD.TOTL.GD.ZS</td>\n",
       "      <td>NaN</td>\n",
       "      <td>NaN</td>\n",
       "      <td>NaN</td>\n",
       "      <td>NaN</td>\n",
       "      <td>NaN</td>\n",
       "      <td>NaN</td>\n",
       "      <td>...</td>\n",
       "      <td>4.677365</td>\n",
       "      <td>4.74492</td>\n",
       "      <td>4.83984</td>\n",
       "      <td>4.815085</td>\n",
       "      <td>4.821875</td>\n",
       "      <td>4.862555</td>\n",
       "      <td>4.83459</td>\n",
       "      <td>4.600084</td>\n",
       "      <td>4.608170</td>\n",
       "      <td>NaN</td>\n",
       "    </tr>\n",
       "    <tr>\n",
       "      <th>2</th>\n",
       "      <td>Afghanistan</td>\n",
       "      <td>AFG</td>\n",
       "      <td>Government expenditure on education, total (% ...</td>\n",
       "      <td>SE.XPD.TOTL.GD.ZS</td>\n",
       "      <td>NaN</td>\n",
       "      <td>NaN</td>\n",
       "      <td>NaN</td>\n",
       "      <td>NaN</td>\n",
       "      <td>NaN</td>\n",
       "      <td>NaN</td>\n",
       "      <td>...</td>\n",
       "      <td>3.320000</td>\n",
       "      <td>3.45446</td>\n",
       "      <td>3.69522</td>\n",
       "      <td>3.255800</td>\n",
       "      <td>3.511980</td>\n",
       "      <td>3.373310</td>\n",
       "      <td>3.19979</td>\n",
       "      <td>3.213780</td>\n",
       "      <td>2.860859</td>\n",
       "      <td>NaN</td>\n",
       "    </tr>\n",
       "    <tr>\n",
       "      <th>3</th>\n",
       "      <td>Africa Western and Central</td>\n",
       "      <td>AFW</td>\n",
       "      <td>Government expenditure on education, total (% ...</td>\n",
       "      <td>SE.XPD.TOTL.GD.ZS</td>\n",
       "      <td>NaN</td>\n",
       "      <td>NaN</td>\n",
       "      <td>NaN</td>\n",
       "      <td>NaN</td>\n",
       "      <td>NaN</td>\n",
       "      <td>NaN</td>\n",
       "      <td>...</td>\n",
       "      <td>2.805635</td>\n",
       "      <td>2.94021</td>\n",
       "      <td>2.66667</td>\n",
       "      <td>3.057290</td>\n",
       "      <td>2.780580</td>\n",
       "      <td>3.430220</td>\n",
       "      <td>3.01322</td>\n",
       "      <td>3.023040</td>\n",
       "      <td>3.173885</td>\n",
       "      <td>NaN</td>\n",
       "    </tr>\n",
       "    <tr>\n",
       "      <th>4</th>\n",
       "      <td>Angola</td>\n",
       "      <td>AGO</td>\n",
       "      <td>Government expenditure on education, total (% ...</td>\n",
       "      <td>SE.XPD.TOTL.GD.ZS</td>\n",
       "      <td>NaN</td>\n",
       "      <td>NaN</td>\n",
       "      <td>NaN</td>\n",
       "      <td>NaN</td>\n",
       "      <td>NaN</td>\n",
       "      <td>NaN</td>\n",
       "      <td>...</td>\n",
       "      <td>3.081910</td>\n",
       "      <td>4.43895</td>\n",
       "      <td>3.12292</td>\n",
       "      <td>3.486900</td>\n",
       "      <td>2.754940</td>\n",
       "      <td>2.466880</td>\n",
       "      <td>2.04470</td>\n",
       "      <td>1.927460</td>\n",
       "      <td>2.415200</td>\n",
       "      <td>NaN</td>\n",
       "    </tr>\n",
       "  </tbody>\n",
       "</table>\n",
       "<p>5 rows × 66 columns</p>\n",
       "</div>"
      ],
      "text/plain": [
       "                  Country Name Country Code  \\\n",
       "0                        Aruba          ABW   \n",
       "1  Africa Eastern and Southern          AFE   \n",
       "2                  Afghanistan          AFG   \n",
       "3   Africa Western and Central          AFW   \n",
       "4                       Angola          AGO   \n",
       "\n",
       "                                      Indicator Name     Indicator Code  1960  \\\n",
       "0  Government expenditure on education, total (% ...  SE.XPD.TOTL.GD.ZS   NaN   \n",
       "1  Government expenditure on education, total (% ...  SE.XPD.TOTL.GD.ZS   NaN   \n",
       "2  Government expenditure on education, total (% ...  SE.XPD.TOTL.GD.ZS   NaN   \n",
       "3  Government expenditure on education, total (% ...  SE.XPD.TOTL.GD.ZS   NaN   \n",
       "4  Government expenditure on education, total (% ...  SE.XPD.TOTL.GD.ZS   NaN   \n",
       "\n",
       "   1961  1962  1963  1964  1965  ...      2012     2013     2014      2015  \\\n",
       "0   NaN   NaN   NaN   NaN   NaN  ...  6.549060  6.44296  5.85128  5.888270   \n",
       "1   NaN   NaN   NaN   NaN   NaN  ...  4.677365  4.74492  4.83984  4.815085   \n",
       "2   NaN   NaN   NaN   NaN   NaN  ...  3.320000  3.45446  3.69522  3.255800   \n",
       "3   NaN   NaN   NaN   NaN   NaN  ...  2.805635  2.94021  2.66667  3.057290   \n",
       "4   NaN   NaN   NaN   NaN   NaN  ...  3.081910  4.43895  3.12292  3.486900   \n",
       "\n",
       "       2016      2017     2018      2019      2020  2021  \n",
       "0  5.491350       NaN      NaN       NaN       NaN   NaN  \n",
       "1  4.821875  4.862555  4.83459  4.600084  4.608170   NaN  \n",
       "2  3.511980  3.373310  3.19979  3.213780  2.860859   NaN  \n",
       "3  2.780580  3.430220  3.01322  3.023040  3.173885   NaN  \n",
       "4  2.754940  2.466880  2.04470  1.927460  2.415200   NaN  \n",
       "\n",
       "[5 rows x 66 columns]"
      ]
     },
     "execution_count": 6,
     "metadata": {},
     "output_type": "execute_result"
    }
   ],
   "source": [
    "df = pd.read_excel(r'C:\\Users\\chopp\\API_SE.XPD.TOTL.GD.ZS_DS2_en_excel_v2_4773094.xls',skiprows=3)\n",
    "df.head()"
   ]
  },
  {
   "cell_type": "code",
   "execution_count": 14,
   "id": "2369fe56",
   "metadata": {},
   "outputs": [
    {
     "name": "stdout",
     "output_type": "stream",
     "text": [
      "<class 'pandas.core.frame.DataFrame'>\n",
      "RangeIndex: 266 entries, 0 to 265\n",
      "Data columns (total 27 columns):\n",
      " #   Column          Non-Null Count  Dtype  \n",
      "---  ------          --------------  -----  \n",
      " 0   Country Name    266 non-null    object \n",
      " 1   Country Code    266 non-null    object \n",
      " 2   Indicator Name  266 non-null    object \n",
      " 3   Indicator Code  266 non-null    object \n",
      " 4   1998            104 non-null    float64\n",
      " 5   1999            153 non-null    float64\n",
      " 6   2000            160 non-null    float64\n",
      " 7   2001            153 non-null    float64\n",
      " 8   2002            159 non-null    float64\n",
      " 9   2003            136 non-null    float64\n",
      " 10  2004            164 non-null    float64\n",
      " 11  2005            155 non-null    float64\n",
      " 12  2006            154 non-null    float64\n",
      " 13  2007            151 non-null    float64\n",
      " 14  2008            174 non-null    float64\n",
      " 15  2009            176 non-null    float64\n",
      " 16  2010            204 non-null    float64\n",
      " 17  2011            205 non-null    float64\n",
      " 18  2012            216 non-null    float64\n",
      " 19  2013            214 non-null    float64\n",
      " 20  2014            218 non-null    float64\n",
      " 21  2015            229 non-null    float64\n",
      " 22  2016            228 non-null    float64\n",
      " 23  2017            227 non-null    float64\n",
      " 24  2018            225 non-null    float64\n",
      " 25  2019            221 non-null    float64\n",
      " 26  2020            204 non-null    float64\n",
      "dtypes: float64(23), object(4)\n",
      "memory usage: 56.2+ KB\n"
     ]
    }
   ],
   "source": [
    "df.info()"
   ]
  },
  {
   "cell_type": "code",
   "execution_count": 13,
   "id": "c6557938",
   "metadata": {},
   "outputs": [],
   "source": [
    "#df.dropna(axis=1,how='all',inplace=True)\n",
    "df.dropna(axis=1,thresh=100,inplace=True)"
   ]
  },
  {
   "cell_type": "code",
   "execution_count": 16,
   "id": "d9c8c8da",
   "metadata": {},
   "outputs": [
    {
     "data": {
      "text/plain": [
       "Index(['Country Name', 'Country Code', 'Indicator Name', 'Indicator Code',\n",
       "       '1998', '1999', '2000', '2001', '2002', '2003', '2004', '2005', '2006',\n",
       "       '2007', '2008', '2009', '2010', '2011', '2012', '2013', '2014', '2015',\n",
       "       '2016', '2017', '2018', '2019', '2020'],\n",
       "      dtype='object')"
      ]
     },
     "execution_count": 16,
     "metadata": {},
     "output_type": "execute_result"
    }
   ],
   "source": [
    "df.columns"
   ]
  },
  {
   "cell_type": "code",
   "execution_count": 17,
   "id": "e0a1fb03",
   "metadata": {},
   "outputs": [],
   "source": [
    "df.drop(columns=['Country Code', 'Indicator Name', 'Indicator Code'],inplace=True)"
   ]
  },
  {
   "cell_type": "code",
   "execution_count": 18,
   "id": "9c827d67",
   "metadata": {},
   "outputs": [
    {
     "name": "stdout",
     "output_type": "stream",
     "text": [
      "<class 'pandas.core.frame.DataFrame'>\n",
      "RangeIndex: 266 entries, 0 to 265\n",
      "Data columns (total 24 columns):\n",
      " #   Column        Non-Null Count  Dtype  \n",
      "---  ------        --------------  -----  \n",
      " 0   Country Name  266 non-null    object \n",
      " 1   1998          104 non-null    float64\n",
      " 2   1999          153 non-null    float64\n",
      " 3   2000          160 non-null    float64\n",
      " 4   2001          153 non-null    float64\n",
      " 5   2002          159 non-null    float64\n",
      " 6   2003          136 non-null    float64\n",
      " 7   2004          164 non-null    float64\n",
      " 8   2005          155 non-null    float64\n",
      " 9   2006          154 non-null    float64\n",
      " 10  2007          151 non-null    float64\n",
      " 11  2008          174 non-null    float64\n",
      " 12  2009          176 non-null    float64\n",
      " 13  2010          204 non-null    float64\n",
      " 14  2011          205 non-null    float64\n",
      " 15  2012          216 non-null    float64\n",
      " 16  2013          214 non-null    float64\n",
      " 17  2014          218 non-null    float64\n",
      " 18  2015          229 non-null    float64\n",
      " 19  2016          228 non-null    float64\n",
      " 20  2017          227 non-null    float64\n",
      " 21  2018          225 non-null    float64\n",
      " 22  2019          221 non-null    float64\n",
      " 23  2020          204 non-null    float64\n",
      "dtypes: float64(23), object(1)\n",
      "memory usage: 50.0+ KB\n"
     ]
    }
   ],
   "source": [
    "df.info()"
   ]
  },
  {
   "cell_type": "code",
   "execution_count": 20,
   "id": "ac8b5cdb",
   "metadata": {},
   "outputs": [
    {
     "data": {
      "text/plain": [
       "array([False, False, False,  True,  True,  True,  True,  True,  True,\n",
       "        True,  True,  True,  True,  True,  True,  True,  True,  True,\n",
       "        True,  True,  True,  True,  True,  True])"
      ]
     },
     "execution_count": 20,
     "metadata": {},
     "output_type": "execute_result"
    }
   ],
   "source": [
    "df.columns.str.startswith('20')"
   ]
  },
  {
   "cell_type": "code",
   "execution_count": 27,
   "id": "0c688e90",
   "metadata": {},
   "outputs": [
    {
     "data": {
      "text/plain": [
       "Index(['2000', '2001', '2002', '2003', '2004', '2005', '2006', '2007', '2008',\n",
       "       '2009', '2010', '2011', '2012', '2013', '2014', '2015', '2016', '2017',\n",
       "       '2018', '2019', '2020'],\n",
       "      dtype='object')"
      ]
     },
     "execution_count": 27,
     "metadata": {},
     "output_type": "execute_result"
    }
   ],
   "source": [
    "df.columns[df.columns.str.startswith('20')]"
   ]
  },
  {
   "cell_type": "code",
   "execution_count": 25,
   "id": "d3f25ec3",
   "metadata": {},
   "outputs": [
    {
     "data": {
      "text/plain": [
       "Index(['Country Name', '2000', '2001', '2002', '2003', '2004', '2005', '2006',\n",
       "       '2007', '2008', '2009', '2010', '2011', '2012', '2013', '2014', '2015',\n",
       "       '2016', '2017', '2018', '2019', '2020'],\n",
       "      dtype='object')"
      ]
     },
     "execution_count": 25,
     "metadata": {},
     "output_type": "execute_result"
    }
   ],
   "source": [
    "df.columns[df.columns.str.match('Country Name|20')]"
   ]
  },
  {
   "cell_type": "code",
   "execution_count": 40,
   "id": "bd3cd058",
   "metadata": {},
   "outputs": [
    {
     "data": {
      "text/plain": [
       "Index(['Country Name', '2000', '2005', '2010', '2015', '2020'], dtype='object')"
      ]
     },
     "execution_count": 40,
     "metadata": {},
     "output_type": "execute_result"
    }
   ],
   "source": [
    "df.columns[df.columns.str.match('Country Name|^20\\d[05]')]"
   ]
  },
  {
   "cell_type": "code",
   "execution_count": 39,
   "id": "440fe984",
   "metadata": {},
   "outputs": [
    {
     "data": {
      "text/plain": [
       "Index(['Country Name', '2000', '2001', '2002', '2003', '2004', '2005', '2006',\n",
       "       '2007', '2008', '2009', '2010', '2011', '2012', '2013', '2014', '2015',\n",
       "       '2016', '2017', '2018', '2019', '2020'],\n",
       "      dtype='object')"
      ]
     },
     "execution_count": 39,
     "metadata": {},
     "output_type": "execute_result"
    }
   ],
   "source": [
    "df.columns[df.columns.str.match('Country Name|^20')]"
   ]
  },
  {
   "cell_type": "code",
   "execution_count": 42,
   "id": "4b5bd330",
   "metadata": {},
   "outputs": [
    {
     "data": {
      "text/plain": [
       "Index(['Country Name', '2000', '2005', '2010', '2015', '2020'], dtype='object')"
      ]
     },
     "execution_count": 42,
     "metadata": {},
     "output_type": "execute_result"
    }
   ],
   "source": [
    "df.columns[df.columns.str.match('Country Name|^\\d{3}[05]',case=False)] #/d{3} คือ 3 ตัวหน้าเป็นตัวเลขลงท้ายด้วย [05]"
   ]
  },
  {
   "cell_type": "code",
   "execution_count": 43,
   "id": "77368567",
   "metadata": {},
   "outputs": [
    {
     "data": {
      "text/plain": [
       "Index(['Country Name', '2000', '2005', '2010', '2015', '2020'], dtype='object')"
      ]
     },
     "execution_count": 43,
     "metadata": {},
     "output_type": "execute_result"
    }
   ],
   "source": [
    "df.columns[df.columns.str.match('Country Name|^\\d{3}[05]')]"
   ]
  },
  {
   "cell_type": "code",
   "execution_count": 45,
   "id": "2b3a5580",
   "metadata": {
    "scrolled": true
   },
   "outputs": [
    {
     "data": {
      "text/html": [
       "<div>\n",
       "<style scoped>\n",
       "    .dataframe tbody tr th:only-of-type {\n",
       "        vertical-align: middle;\n",
       "    }\n",
       "\n",
       "    .dataframe tbody tr th {\n",
       "        vertical-align: top;\n",
       "    }\n",
       "\n",
       "    .dataframe thead th {\n",
       "        text-align: right;\n",
       "    }\n",
       "</style>\n",
       "<table border=\"1\" class=\"dataframe\">\n",
       "  <thead>\n",
       "    <tr style=\"text-align: right;\">\n",
       "      <th></th>\n",
       "      <th>Country Name</th>\n",
       "      <th>2010</th>\n",
       "      <th>2011</th>\n",
       "      <th>2012</th>\n",
       "      <th>2013</th>\n",
       "      <th>2014</th>\n",
       "      <th>2015</th>\n",
       "      <th>2016</th>\n",
       "      <th>2017</th>\n",
       "      <th>2018</th>\n",
       "      <th>2019</th>\n",
       "    </tr>\n",
       "  </thead>\n",
       "  <tbody>\n",
       "    <tr>\n",
       "      <th>169</th>\n",
       "      <td>Malaysia</td>\n",
       "      <td>4.96645</td>\n",
       "      <td>5.76294</td>\n",
       "      <td>5.739030</td>\n",
       "      <td>5.481200</td>\n",
       "      <td>5.212640</td>\n",
       "      <td>4.894870</td>\n",
       "      <td>4.751920</td>\n",
       "      <td>4.675310</td>\n",
       "      <td>4.47865</td>\n",
       "      <td>4.15661</td>\n",
       "    </tr>\n",
       "    <tr>\n",
       "      <th>208</th>\n",
       "      <td>Singapore</td>\n",
       "      <td>3.08044</td>\n",
       "      <td>3.03077</td>\n",
       "      <td>3.070860</td>\n",
       "      <td>2.854350</td>\n",
       "      <td>2.924370</td>\n",
       "      <td>2.863090</td>\n",
       "      <td>2.874830</td>\n",
       "      <td>2.768260</td>\n",
       "      <td>2.85598</td>\n",
       "      <td>2.73621</td>\n",
       "    </tr>\n",
       "    <tr>\n",
       "      <th>233</th>\n",
       "      <td>Thailand</td>\n",
       "      <td>3.50844</td>\n",
       "      <td>4.80555</td>\n",
       "      <td>3.596918</td>\n",
       "      <td>3.824399</td>\n",
       "      <td>3.919178</td>\n",
       "      <td>3.863976</td>\n",
       "      <td>3.767617</td>\n",
       "      <td>3.465322</td>\n",
       "      <td>3.19860</td>\n",
       "      <td>3.02062</td>\n",
       "    </tr>\n",
       "  </tbody>\n",
       "</table>\n",
       "</div>"
      ],
      "text/plain": [
       "    Country Name     2010     2011      2012      2013      2014      2015  \\\n",
       "169     Malaysia  4.96645  5.76294  5.739030  5.481200  5.212640  4.894870   \n",
       "208    Singapore  3.08044  3.03077  3.070860  2.854350  2.924370  2.863090   \n",
       "233     Thailand  3.50844  4.80555  3.596918  3.824399  3.919178  3.863976   \n",
       "\n",
       "         2016      2017     2018     2019  \n",
       "169  4.751920  4.675310  4.47865  4.15661  \n",
       "208  2.874830  2.768260  2.85598  2.73621  \n",
       "233  3.767617  3.465322  3.19860  3.02062  "
      ]
     },
     "execution_count": 45,
     "metadata": {},
     "output_type": "execute_result"
    }
   ],
   "source": [
    "df[df['Country Name'].str.match('Thailand|Singapore|Malaysia')]\\\n",
    ".loc[:,df.columns[df.columns.str.match('Country Name|^201')]]"
   ]
  },
  {
   "cell_type": "code",
   "execution_count": 229,
   "id": "46781156",
   "metadata": {},
   "outputs": [],
   "source": [
    "test = df.pivot_table(index='Country Name',values=['2010','2015','2019'])"
   ]
  },
  {
   "cell_type": "code",
   "execution_count": 230,
   "id": "983a99e5",
   "metadata": {},
   "outputs": [],
   "source": [
    "test.columns=['2010','2015','2019']"
   ]
  },
  {
   "cell_type": "code",
   "execution_count": 231,
   "id": "c3e263c3",
   "metadata": {},
   "outputs": [],
   "source": [
    "test.reset_index(inplace=True)"
   ]
  },
  {
   "cell_type": "code",
   "execution_count": 232,
   "id": "a5561f15",
   "metadata": {},
   "outputs": [
    {
     "data": {
      "text/html": [
       "<div>\n",
       "<style scoped>\n",
       "    .dataframe tbody tr th:only-of-type {\n",
       "        vertical-align: middle;\n",
       "    }\n",
       "\n",
       "    .dataframe tbody tr th {\n",
       "        vertical-align: top;\n",
       "    }\n",
       "\n",
       "    .dataframe thead th {\n",
       "        text-align: right;\n",
       "    }\n",
       "</style>\n",
       "<table border=\"1\" class=\"dataframe\">\n",
       "  <thead>\n",
       "    <tr style=\"text-align: right;\">\n",
       "      <th></th>\n",
       "      <th>Country Name</th>\n",
       "      <th>Year</th>\n",
       "      <th>% of GDP</th>\n",
       "    </tr>\n",
       "  </thead>\n",
       "  <tbody>\n",
       "    <tr>\n",
       "      <th>0</th>\n",
       "      <td>Afghanistan</td>\n",
       "      <td>2010</td>\n",
       "      <td>3.479450</td>\n",
       "    </tr>\n",
       "    <tr>\n",
       "      <th>1</th>\n",
       "      <td>Africa Eastern and Southern</td>\n",
       "      <td>2010</td>\n",
       "      <td>4.496590</td>\n",
       "    </tr>\n",
       "    <tr>\n",
       "      <th>2</th>\n",
       "      <td>Africa Western and Central</td>\n",
       "      <td>2010</td>\n",
       "      <td>2.963060</td>\n",
       "    </tr>\n",
       "    <tr>\n",
       "      <th>3</th>\n",
       "      <td>Albania</td>\n",
       "      <td>2010</td>\n",
       "      <td>3.413075</td>\n",
       "    </tr>\n",
       "    <tr>\n",
       "      <th>4</th>\n",
       "      <td>Algeria</td>\n",
       "      <td>2010</td>\n",
       "      <td>NaN</td>\n",
       "    </tr>\n",
       "    <tr>\n",
       "      <th>...</th>\n",
       "      <td>...</td>\n",
       "      <td>...</td>\n",
       "      <td>...</td>\n",
       "    </tr>\n",
       "    <tr>\n",
       "      <th>718</th>\n",
       "      <td>West Bank and Gaza</td>\n",
       "      <td>2019</td>\n",
       "      <td>NaN</td>\n",
       "    </tr>\n",
       "    <tr>\n",
       "      <th>719</th>\n",
       "      <td>World</td>\n",
       "      <td>2019</td>\n",
       "      <td>4.095310</td>\n",
       "    </tr>\n",
       "    <tr>\n",
       "      <th>720</th>\n",
       "      <td>Yemen, Rep.</td>\n",
       "      <td>2019</td>\n",
       "      <td>NaN</td>\n",
       "    </tr>\n",
       "    <tr>\n",
       "      <th>721</th>\n",
       "      <td>Zambia</td>\n",
       "      <td>2019</td>\n",
       "      <td>4.465180</td>\n",
       "    </tr>\n",
       "    <tr>\n",
       "      <th>722</th>\n",
       "      <td>Zimbabwe</td>\n",
       "      <td>2019</td>\n",
       "      <td>NaN</td>\n",
       "    </tr>\n",
       "  </tbody>\n",
       "</table>\n",
       "<p>723 rows × 3 columns</p>\n",
       "</div>"
      ],
      "text/plain": [
       "                    Country Name  Year  % of GDP\n",
       "0                    Afghanistan  2010  3.479450\n",
       "1    Africa Eastern and Southern  2010  4.496590\n",
       "2     Africa Western and Central  2010  2.963060\n",
       "3                        Albania  2010  3.413075\n",
       "4                        Algeria  2010       NaN\n",
       "..                           ...   ...       ...\n",
       "718           West Bank and Gaza  2019       NaN\n",
       "719                        World  2019  4.095310\n",
       "720                  Yemen, Rep.  2019       NaN\n",
       "721                       Zambia  2019  4.465180\n",
       "722                     Zimbabwe  2019       NaN\n",
       "\n",
       "[723 rows x 3 columns]"
      ]
     },
     "execution_count": 232,
     "metadata": {},
     "output_type": "execute_result"
    }
   ],
   "source": [
    "test.melt(id_vars=['Country Name'],var_name='Year',value_name='% of GDP')"
   ]
  },
  {
   "cell_type": "markdown",
   "id": "2f6d8c2c",
   "metadata": {},
   "source": [
    "## Melt จะใช้เปลี่ยนจากแนวนอนที่เป็นคอลัมน์ มาเป็นข้อมูลให้เราใช้งานได้ง่าย"
   ]
  },
  {
   "cell_type": "code",
   "execution_count": 133,
   "id": "e2dace15",
   "metadata": {},
   "outputs": [],
   "source": [
    "dlong = pd.melt(df[df.columns[df.columns.str.match('Country Name|^20')]],\n",
    "               id_vars = ['Country Name'],\n",
    "               var_name = 'Year',value_name='% of GDP')"
   ]
  },
  {
   "cell_type": "code",
   "execution_count": 134,
   "id": "a43a0f8b",
   "metadata": {},
   "outputs": [
    {
     "name": "stdout",
     "output_type": "stream",
     "text": [
      "<class 'pandas.core.frame.DataFrame'>\n",
      "RangeIndex: 5586 entries, 0 to 5585\n",
      "Data columns (total 3 columns):\n",
      " #   Column        Non-Null Count  Dtype  \n",
      "---  ------        --------------  -----  \n",
      " 0   Country Name  5586 non-null   object \n",
      " 1   Year          5586 non-null   object \n",
      " 2   % of GDP      3973 non-null   float64\n",
      "dtypes: float64(1), object(2)\n",
      "memory usage: 131.0+ KB\n"
     ]
    }
   ],
   "source": [
    "dlong.info()"
   ]
  },
  {
   "cell_type": "code",
   "execution_count": 135,
   "id": "56bc0254",
   "metadata": {
    "scrolled": true
   },
   "outputs": [
    {
     "data": {
      "text/html": [
       "<div>\n",
       "<style scoped>\n",
       "    .dataframe tbody tr th:only-of-type {\n",
       "        vertical-align: middle;\n",
       "    }\n",
       "\n",
       "    .dataframe tbody tr th {\n",
       "        vertical-align: top;\n",
       "    }\n",
       "\n",
       "    .dataframe thead th {\n",
       "        text-align: right;\n",
       "    }\n",
       "</style>\n",
       "<table border=\"1\" class=\"dataframe\">\n",
       "  <thead>\n",
       "    <tr style=\"text-align: right;\">\n",
       "      <th></th>\n",
       "      <th>Country Name</th>\n",
       "      <th>Year</th>\n",
       "      <th>% of GDP</th>\n",
       "    </tr>\n",
       "  </thead>\n",
       "  <tbody>\n",
       "    <tr>\n",
       "      <th>0</th>\n",
       "      <td>Aruba</td>\n",
       "      <td>2000</td>\n",
       "      <td>4.71468</td>\n",
       "    </tr>\n",
       "    <tr>\n",
       "      <th>1</th>\n",
       "      <td>Africa Eastern and Southern</td>\n",
       "      <td>2000</td>\n",
       "      <td>3.76911</td>\n",
       "    </tr>\n",
       "    <tr>\n",
       "      <th>2</th>\n",
       "      <td>Afghanistan</td>\n",
       "      <td>2000</td>\n",
       "      <td>NaN</td>\n",
       "    </tr>\n",
       "    <tr>\n",
       "      <th>3</th>\n",
       "      <td>Africa Western and Central</td>\n",
       "      <td>2000</td>\n",
       "      <td>2.56502</td>\n",
       "    </tr>\n",
       "    <tr>\n",
       "      <th>4</th>\n",
       "      <td>Angola</td>\n",
       "      <td>2000</td>\n",
       "      <td>2.60753</td>\n",
       "    </tr>\n",
       "  </tbody>\n",
       "</table>\n",
       "</div>"
      ],
      "text/plain": [
       "                  Country Name  Year  % of GDP\n",
       "0                        Aruba  2000   4.71468\n",
       "1  Africa Eastern and Southern  2000   3.76911\n",
       "2                  Afghanistan  2000       NaN\n",
       "3   Africa Western and Central  2000   2.56502\n",
       "4                       Angola  2000   2.60753"
      ]
     },
     "execution_count": 135,
     "metadata": {},
     "output_type": "execute_result"
    }
   ],
   "source": [
    "dlong.head()"
   ]
  },
  {
   "cell_type": "code",
   "execution_count": 132,
   "id": "24fd2509",
   "metadata": {},
   "outputs": [
    {
     "data": {
      "text/plain": [
       "Index(['Country Name', 'Year', '% of GDP'], dtype='object')"
      ]
     },
     "execution_count": 132,
     "metadata": {},
     "output_type": "execute_result"
    }
   ],
   "source": [
    "dlong.columns"
   ]
  },
  {
   "cell_type": "code",
   "execution_count": 136,
   "id": "8b47828d",
   "metadata": {},
   "outputs": [],
   "source": [
    "dlong.Year = pd.to_numeric(dlong.Year)"
   ]
  },
  {
   "cell_type": "code",
   "execution_count": 137,
   "id": "e4805899",
   "metadata": {
    "scrolled": true
   },
   "outputs": [
    {
     "name": "stdout",
     "output_type": "stream",
     "text": [
      "<class 'pandas.core.frame.DataFrame'>\n",
      "RangeIndex: 5586 entries, 0 to 5585\n",
      "Data columns (total 3 columns):\n",
      " #   Column        Non-Null Count  Dtype  \n",
      "---  ------        --------------  -----  \n",
      " 0   Country Name  5586 non-null   object \n",
      " 1   Year          5586 non-null   int64  \n",
      " 2   % of GDP      3973 non-null   float64\n",
      "dtypes: float64(1), int64(1), object(1)\n",
      "memory usage: 131.0+ KB\n"
     ]
    }
   ],
   "source": [
    "dlong.info()"
   ]
  },
  {
   "cell_type": "code",
   "execution_count": 138,
   "id": "1c14107e",
   "metadata": {},
   "outputs": [
    {
     "data": {
      "text/html": [
       "<div>\n",
       "<style scoped>\n",
       "    .dataframe tbody tr th:only-of-type {\n",
       "        vertical-align: middle;\n",
       "    }\n",
       "\n",
       "    .dataframe tbody tr th {\n",
       "        vertical-align: top;\n",
       "    }\n",
       "\n",
       "    .dataframe thead th {\n",
       "        text-align: right;\n",
       "    }\n",
       "</style>\n",
       "<table border=\"1\" class=\"dataframe\">\n",
       "  <thead>\n",
       "    <tr style=\"text-align: right;\">\n",
       "      <th></th>\n",
       "      <th>Country Name</th>\n",
       "      <th>Year</th>\n",
       "      <th>% of GDP</th>\n",
       "    </tr>\n",
       "  </thead>\n",
       "  <tbody>\n",
       "    <tr>\n",
       "      <th>266</th>\n",
       "      <td>Aruba</td>\n",
       "      <td>2001</td>\n",
       "      <td>4.73986</td>\n",
       "    </tr>\n",
       "    <tr>\n",
       "      <th>267</th>\n",
       "      <td>Africa Eastern and Southern</td>\n",
       "      <td>2001</td>\n",
       "      <td>4.57258</td>\n",
       "    </tr>\n",
       "    <tr>\n",
       "      <th>268</th>\n",
       "      <td>Afghanistan</td>\n",
       "      <td>2001</td>\n",
       "      <td>NaN</td>\n",
       "    </tr>\n",
       "    <tr>\n",
       "      <th>269</th>\n",
       "      <td>Africa Western and Central</td>\n",
       "      <td>2001</td>\n",
       "      <td>2.42614</td>\n",
       "    </tr>\n",
       "    <tr>\n",
       "      <th>270</th>\n",
       "      <td>Angola</td>\n",
       "      <td>2001</td>\n",
       "      <td>NaN</td>\n",
       "    </tr>\n",
       "    <tr>\n",
       "      <th>...</th>\n",
       "      <td>...</td>\n",
       "      <td>...</td>\n",
       "      <td>...</td>\n",
       "    </tr>\n",
       "    <tr>\n",
       "      <th>5581</th>\n",
       "      <td>Kosovo</td>\n",
       "      <td>2020</td>\n",
       "      <td>NaN</td>\n",
       "    </tr>\n",
       "    <tr>\n",
       "      <th>5582</th>\n",
       "      <td>Yemen, Rep.</td>\n",
       "      <td>2020</td>\n",
       "      <td>NaN</td>\n",
       "    </tr>\n",
       "    <tr>\n",
       "      <th>5583</th>\n",
       "      <td>South Africa</td>\n",
       "      <td>2020</td>\n",
       "      <td>6.19288</td>\n",
       "    </tr>\n",
       "    <tr>\n",
       "      <th>5584</th>\n",
       "      <td>Zambia</td>\n",
       "      <td>2020</td>\n",
       "      <td>3.70240</td>\n",
       "    </tr>\n",
       "    <tr>\n",
       "      <th>5585</th>\n",
       "      <td>Zimbabwe</td>\n",
       "      <td>2020</td>\n",
       "      <td>NaN</td>\n",
       "    </tr>\n",
       "  </tbody>\n",
       "</table>\n",
       "<p>5320 rows × 3 columns</p>\n",
       "</div>"
      ],
      "text/plain": [
       "                     Country Name  Year  % of GDP\n",
       "266                         Aruba  2001   4.73986\n",
       "267   Africa Eastern and Southern  2001   4.57258\n",
       "268                   Afghanistan  2001       NaN\n",
       "269    Africa Western and Central  2001   2.42614\n",
       "270                        Angola  2001       NaN\n",
       "...                           ...   ...       ...\n",
       "5581                       Kosovo  2020       NaN\n",
       "5582                  Yemen, Rep.  2020       NaN\n",
       "5583                 South Africa  2020   6.19288\n",
       "5584                       Zambia  2020   3.70240\n",
       "5585                     Zimbabwe  2020       NaN\n",
       "\n",
       "[5320 rows x 3 columns]"
      ]
     },
     "execution_count": 138,
     "metadata": {},
     "output_type": "execute_result"
    }
   ],
   "source": [
    "dlong[dlong.Year>2000]"
   ]
  },
  {
   "cell_type": "code",
   "execution_count": 151,
   "id": "af1db5a0",
   "metadata": {},
   "outputs": [
    {
     "data": {
      "text/html": [
       "<div>\n",
       "<style scoped>\n",
       "    .dataframe tbody tr th:only-of-type {\n",
       "        vertical-align: middle;\n",
       "    }\n",
       "\n",
       "    .dataframe tbody tr th {\n",
       "        vertical-align: top;\n",
       "    }\n",
       "\n",
       "    .dataframe thead th {\n",
       "        text-align: right;\n",
       "    }\n",
       "</style>\n",
       "<table border=\"1\" class=\"dataframe\">\n",
       "  <thead>\n",
       "    <tr style=\"text-align: right;\">\n",
       "      <th></th>\n",
       "      <th>Country Name</th>\n",
       "      <th>Year</th>\n",
       "      <th>% of GDP</th>\n",
       "    </tr>\n",
       "  </thead>\n",
       "  <tbody>\n",
       "    <tr>\n",
       "      <th>435</th>\n",
       "      <td>Malaysia</td>\n",
       "      <td>2001</td>\n",
       "      <td>7.484470</td>\n",
       "    </tr>\n",
       "    <tr>\n",
       "      <th>474</th>\n",
       "      <td>Singapore</td>\n",
       "      <td>2001</td>\n",
       "      <td>3.542490</td>\n",
       "    </tr>\n",
       "    <tr>\n",
       "      <th>499</th>\n",
       "      <td>Thailand</td>\n",
       "      <td>2001</td>\n",
       "      <td>4.817870</td>\n",
       "    </tr>\n",
       "    <tr>\n",
       "      <th>525</th>\n",
       "      <td>World</td>\n",
       "      <td>2001</td>\n",
       "      <td>4.020320</td>\n",
       "    </tr>\n",
       "    <tr>\n",
       "      <th>701</th>\n",
       "      <td>Malaysia</td>\n",
       "      <td>2002</td>\n",
       "      <td>7.657930</td>\n",
       "    </tr>\n",
       "    <tr>\n",
       "      <th>...</th>\n",
       "      <td>...</td>\n",
       "      <td>...</td>\n",
       "      <td>...</td>\n",
       "    </tr>\n",
       "    <tr>\n",
       "      <th>5313</th>\n",
       "      <td>World</td>\n",
       "      <td>2019</td>\n",
       "      <td>4.095310</td>\n",
       "    </tr>\n",
       "    <tr>\n",
       "      <th>5489</th>\n",
       "      <td>Malaysia</td>\n",
       "      <td>2020</td>\n",
       "      <td>3.916970</td>\n",
       "    </tr>\n",
       "    <tr>\n",
       "      <th>5528</th>\n",
       "      <td>Singapore</td>\n",
       "      <td>2020</td>\n",
       "      <td>2.506660</td>\n",
       "    </tr>\n",
       "    <tr>\n",
       "      <th>5553</th>\n",
       "      <td>Thailand</td>\n",
       "      <td>2020</td>\n",
       "      <td>3.145711</td>\n",
       "    </tr>\n",
       "    <tr>\n",
       "      <th>5579</th>\n",
       "      <td>World</td>\n",
       "      <td>2020</td>\n",
       "      <td>4.332050</td>\n",
       "    </tr>\n",
       "  </tbody>\n",
       "</table>\n",
       "<p>80 rows × 3 columns</p>\n",
       "</div>"
      ],
      "text/plain": [
       "     Country Name  Year  % of GDP\n",
       "435      Malaysia  2001  7.484470\n",
       "474     Singapore  2001  3.542490\n",
       "499      Thailand  2001  4.817870\n",
       "525         World  2001  4.020320\n",
       "701      Malaysia  2002  7.657930\n",
       "...           ...   ...       ...\n",
       "5313        World  2019  4.095310\n",
       "5489     Malaysia  2020  3.916970\n",
       "5528    Singapore  2020  2.506660\n",
       "5553     Thailand  2020  3.145711\n",
       "5579        World  2020  4.332050\n",
       "\n",
       "[80 rows x 3 columns]"
      ]
     },
     "execution_count": 151,
     "metadata": {},
     "output_type": "execute_result"
    }
   ],
   "source": [
    "dq = dlong[(dlong.Year>2000) & (dlong['Country Name']\\\n",
    "                               .str.match('Thailand|Malaysia|Singapore|World'))]\n",
    "dq"
   ]
  },
  {
   "cell_type": "code",
   "execution_count": 174,
   "id": "c648dd0b",
   "metadata": {},
   "outputs": [
    {
     "data": {
      "image/png": "[encoded data removed]",
      "text/plain": [
       "<Figure size 1120.25x500 with 1 Axes>"
      ]
     },
     "metadata": {},
     "output_type": "display_data"
    }
   ],
   "source": [
    "sns.relplot(y='% of GDP',x='Year',\n",
    "           kind='line' ,\n",
    "           hue = 'Country Name',\n",
    "           aspect = 2,\n",
    "            style = 'Country Name',\n",
    "           data =dq)\n",
    "plt.xlabel('Government expenditure on education , total (%GDP)')\n",
    "sns.despine()"
   ]
  },
  {
   "cell_type": "code",
   "execution_count": null,
   "id": "62cf07cb",
   "metadata": {},
   "outputs": [],
   "source": []
  }
 ],
 "metadata": {
  "kernelspec": {
   "display_name": "Python 3 (ipykernel)",
   "language": "python",
   "name": "python3"
  },
  "language_info": {
   "codemirror_mode": {
    "name": "ipython",
    "version": 3
   },
   "file_extension": ".py",
   "mimetype": "text/x-python",
   "name": "python",
   "nbconvert_exporter": "python",
   "pygments_lexer": "ipython3",
   "version": "3.9.13"
  }
 },
 "nbformat": 4,
 "nbformat_minor": 5
}
