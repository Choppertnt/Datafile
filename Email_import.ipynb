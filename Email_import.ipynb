{
 "cells": [
  {
   "cell_type": "code",
   "execution_count": 15,
   "metadata": {},
   "outputs": [
    {
     "name": "stderr",
     "output_type": "stream",
     "text": [
      "C:\\Users\\chopp\\AppData\\Local\\Packages\\PythonSoftwareFoundation.Python.3.10_qbz5n2kfra8p0\\LocalCache\\local-packages\\Python310\\site-packages\\redmail\\email\\sender.py:616: FutureWarning: Attribute user_name was renamed as username. Please use username instead.\n",
      "  warnings.warn(\"Attribute user_name was renamed as username. Please use username instead.\", FutureWarning)\n"
     ]
    },
    {
     "data": {
      "text/plain": [
       "<email.message.EmailMessage at 0x23e56643640>"
      ]
     },
     "execution_count": 15,
     "metadata": {},
     "output_type": "execute_result"
    }
   ],
   "source": [
    "from redmail import outlook\n",
    "\n",
    "outlook.user_name = \"skywalk55551@hotmail.com\"\n",
    "outlook.password = 'chopper1212'\n",
    "\n",
    "outlook.send(\n",
    "    receivers = ['chopper55551@gmail.com'],\n",
    "    subject = \"An example\",\n",
    "    text = 'Hi this is an example.',\n",
    "    attachments = r'C:\\Users\\chopp\\Data\\condo_price.xlsx'\n",
    ")"
   ]
  }
 ],
 "metadata": {
  "kernelspec": {
   "display_name": "Python 3",
   "language": "python",
   "name": "python3"
  },
  "language_info": {
   "codemirror_mode": {
    "name": "ipython",
    "version": 3
   },
   "file_extension": ".py",
   "mimetype": "text/x-python",
   "name": "python",
   "nbconvert_exporter": "python",
   "pygments_lexer": "ipython3",
   "version": "3.10.11"
  },
  "orig_nbformat": 4
 },
 "nbformat": 4,
 "nbformat_minor": 2
}
